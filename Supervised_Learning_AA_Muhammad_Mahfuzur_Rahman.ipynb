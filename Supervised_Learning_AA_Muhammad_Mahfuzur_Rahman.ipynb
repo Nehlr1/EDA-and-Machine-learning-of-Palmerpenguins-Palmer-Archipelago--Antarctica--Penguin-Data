{
  "nbformat": 4,
  "nbformat_minor": 0,
  "metadata": {
    "colab": {
      "name": "Supervised_Learning_AA.ipynb",
      "provenance": [],
      "collapsed_sections": []
    },
    "kernelspec": {
      "name": "python3",
      "display_name": "Python 3"
    },
    "language_info": {
      "name": "python"
    }
  },
  "cells": [
    {
      "cell_type": "markdown",
      "source": [
        "Name: Muhammad Mahfuzur Rahman <br>\n",
        "Matric Number: A18CS0312"
      ],
      "metadata": {
        "id": "1QPVug2p3P89"
      }
    },
    {
      "cell_type": "code",
      "source": [
        "# Importing Pandas library\n",
        "import pandas as pd\n",
        "# Importing Numpy library\n",
        "import numpy as np\n",
        "# Importing matplotlib.pyplot for drawing graph\n",
        "import matplotlib.pyplot as plt \n",
        "# For plotting the dataset in seaborn \n",
        "import seaborn as sns \n",
        "# Importing LabelEncoder\n",
        "from sklearn.preprocessing import LabelEncoder\n",
        "# For feature selection\n",
        "from sklearn.ensemble import ExtraTreesClassifier\n",
        "from sklearn.preprocessing import Normalizer\n",
        "# For splitting the dataset in test and train data \n",
        "from sklearn.model_selection import train_test_split \n",
        "from sklearn.metrics import confusion_matrix, accuracy_score, roc_curve, roc_auc_score \n",
        "# for plotting the scatter plot\n",
        "import plotly.express as px \n",
        "import plotly.graph_objects as go"
      ],
      "metadata": {
        "id": "Dq_0BsdwkgZB"
      },
      "execution_count": null,
      "outputs": []
    },
    {
      "cell_type": "code",
      "source": [
        "# insert only .csv file\n",
        "from google.colab import files\n",
        "\n",
        "uploaded = files.upload()\n",
        "\n",
        "for fn in uploaded.keys():\n",
        "  print('User uploaded file \"{name}\" with length {length} bytes'.format(\n",
        "      name=fn, length=len(uploaded[fn])))"
      ],
      "metadata": {
        "id": "x9Hm0mn43R94",
        "colab": {
          "resources": {
            "http://localhost:8080/nbextensions/google.colab/files.js": {
              "data": "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",
              "ok": true,
              "headers": [
                [
                  "content-type",
                  "application/javascript"
                ]
              ],
              "status": 200,
              "status_text": ""
            }
          },
          "base_uri": "https://localhost:8080/",
          "height": 91
        },
        "outputId": "586426fb-1b9b-4342-8964-a95e75479f85"
      },
      "execution_count": null,
      "outputs": [
        {
          "output_type": "display_data",
          "data": {
            "text/plain": [
              "<IPython.core.display.HTML object>"
            ],
            "text/html": [
              "\n",
              "     <input type=\"file\" id=\"files-a0ccef1c-ac8a-4b1f-a19d-def9eac6fc2c\" name=\"files[]\" multiple disabled\n",
              "        style=\"border:none\" />\n",
              "     <output id=\"result-a0ccef1c-ac8a-4b1f-a19d-def9eac6fc2c\">\n",
              "      Upload widget is only available when the cell has been executed in the\n",
              "      current browser session. Please rerun this cell to enable.\n",
              "      </output>\n",
              "      <script src=\"/nbextensions/google.colab/files.js\"></script> "
            ]
          },
          "metadata": {}
        },
        {
          "output_type": "stream",
          "name": "stdout",
          "text": [
            "Saving penguins.csv to penguins.csv\n",
            "User uploaded file \"penguins.csv\" with length 13516 bytes\n"
          ]
        }
      ]
    },
    {
      "cell_type": "code",
      "source": [
        "import io\n",
        "penguin_data_frame = pd.read_csv(io.BytesIO(uploaded['penguins.csv']))"
      ],
      "metadata": {
        "id": "okLiJmEA36er"
      },
      "execution_count": null,
      "outputs": []
    },
    {
      "cell_type": "code",
      "source": [
        "# Checking if the dataframe is stored correctly\n",
        "penguin_data_frame.head(10)"
      ],
      "metadata": {
        "colab": {
          "base_uri": "https://localhost:8080/",
          "height": 363
        },
        "id": "wo2dpyBmsSK3",
        "outputId": "465213ec-40fd-44c1-ded2-0bf92cbc2fba"
      },
      "execution_count": null,
      "outputs": [
        {
          "output_type": "execute_result",
          "data": {
            "text/plain": [
              "  species     island  bill_length_mm  bill_depth_mm  flipper_length_mm  \\\n",
              "0  Adelie  Torgersen            39.1           18.7              181.0   \n",
              "1  Adelie  Torgersen            39.5           17.4              186.0   \n",
              "2  Adelie  Torgersen            40.3           18.0              195.0   \n",
              "3  Adelie  Torgersen             NaN            NaN                NaN   \n",
              "4  Adelie  Torgersen            36.7           19.3              193.0   \n",
              "5  Adelie  Torgersen            39.3           20.6              190.0   \n",
              "6  Adelie  Torgersen            38.9           17.8              181.0   \n",
              "7  Adelie  Torgersen            39.2           19.6              195.0   \n",
              "8  Adelie  Torgersen            34.1           18.1              193.0   \n",
              "9  Adelie  Torgersen            42.0           20.2              190.0   \n",
              "\n",
              "   body_mass_g     sex  \n",
              "0       3750.0    male  \n",
              "1       3800.0  female  \n",
              "2       3250.0  female  \n",
              "3          NaN     NaN  \n",
              "4       3450.0  female  \n",
              "5       3650.0    male  \n",
              "6       3625.0  female  \n",
              "7       4675.0    male  \n",
              "8       3475.0     NaN  \n",
              "9       4250.0     NaN  "
            ],
            "text/html": [
              "\n",
              "  <div id=\"df-fd9c5def-e838-4983-a52a-6bbc1c3d67c9\">\n",
              "    <div class=\"colab-df-container\">\n",
              "      <div>\n",
              "<style scoped>\n",
              "    .dataframe tbody tr th:only-of-type {\n",
              "        vertical-align: middle;\n",
              "    }\n",
              "\n",
              "    .dataframe tbody tr th {\n",
              "        vertical-align: top;\n",
              "    }\n",
              "\n",
              "    .dataframe thead th {\n",
              "        text-align: right;\n",
              "    }\n",
              "</style>\n",
              "<table border=\"1\" class=\"dataframe\">\n",
              "  <thead>\n",
              "    <tr style=\"text-align: right;\">\n",
              "      <th></th>\n",
              "      <th>species</th>\n",
              "      <th>island</th>\n",
              "      <th>bill_length_mm</th>\n",
              "      <th>bill_depth_mm</th>\n",
              "      <th>flipper_length_mm</th>\n",
              "      <th>body_mass_g</th>\n",
              "      <th>sex</th>\n",
              "    </tr>\n",
              "  </thead>\n",
              "  <tbody>\n",
              "    <tr>\n",
              "      <th>0</th>\n",
              "      <td>Adelie</td>\n",
              "      <td>Torgersen</td>\n",
              "      <td>39.1</td>\n",
              "      <td>18.7</td>\n",
              "      <td>181.0</td>\n",
              "      <td>3750.0</td>\n",
              "      <td>male</td>\n",
              "    </tr>\n",
              "    <tr>\n",
              "      <th>1</th>\n",
              "      <td>Adelie</td>\n",
              "      <td>Torgersen</td>\n",
              "      <td>39.5</td>\n",
              "      <td>17.4</td>\n",
              "      <td>186.0</td>\n",
              "      <td>3800.0</td>\n",
              "      <td>female</td>\n",
              "    </tr>\n",
              "    <tr>\n",
              "      <th>2</th>\n",
              "      <td>Adelie</td>\n",
              "      <td>Torgersen</td>\n",
              "      <td>40.3</td>\n",
              "      <td>18.0</td>\n",
              "      <td>195.0</td>\n",
              "      <td>3250.0</td>\n",
              "      <td>female</td>\n",
              "    </tr>\n",
              "    <tr>\n",
              "      <th>3</th>\n",
              "      <td>Adelie</td>\n",
              "      <td>Torgersen</td>\n",
              "      <td>NaN</td>\n",
              "      <td>NaN</td>\n",
              "      <td>NaN</td>\n",
              "      <td>NaN</td>\n",
              "      <td>NaN</td>\n",
              "    </tr>\n",
              "    <tr>\n",
              "      <th>4</th>\n",
              "      <td>Adelie</td>\n",
              "      <td>Torgersen</td>\n",
              "      <td>36.7</td>\n",
              "      <td>19.3</td>\n",
              "      <td>193.0</td>\n",
              "      <td>3450.0</td>\n",
              "      <td>female</td>\n",
              "    </tr>\n",
              "    <tr>\n",
              "      <th>5</th>\n",
              "      <td>Adelie</td>\n",
              "      <td>Torgersen</td>\n",
              "      <td>39.3</td>\n",
              "      <td>20.6</td>\n",
              "      <td>190.0</td>\n",
              "      <td>3650.0</td>\n",
              "      <td>male</td>\n",
              "    </tr>\n",
              "    <tr>\n",
              "      <th>6</th>\n",
              "      <td>Adelie</td>\n",
              "      <td>Torgersen</td>\n",
              "      <td>38.9</td>\n",
              "      <td>17.8</td>\n",
              "      <td>181.0</td>\n",
              "      <td>3625.0</td>\n",
              "      <td>female</td>\n",
              "    </tr>\n",
              "    <tr>\n",
              "      <th>7</th>\n",
              "      <td>Adelie</td>\n",
              "      <td>Torgersen</td>\n",
              "      <td>39.2</td>\n",
              "      <td>19.6</td>\n",
              "      <td>195.0</td>\n",
              "      <td>4675.0</td>\n",
              "      <td>male</td>\n",
              "    </tr>\n",
              "    <tr>\n",
              "      <th>8</th>\n",
              "      <td>Adelie</td>\n",
              "      <td>Torgersen</td>\n",
              "      <td>34.1</td>\n",
              "      <td>18.1</td>\n",
              "      <td>193.0</td>\n",
              "      <td>3475.0</td>\n",
              "      <td>NaN</td>\n",
              "    </tr>\n",
              "    <tr>\n",
              "      <th>9</th>\n",
              "      <td>Adelie</td>\n",
              "      <td>Torgersen</td>\n",
              "      <td>42.0</td>\n",
              "      <td>20.2</td>\n",
              "      <td>190.0</td>\n",
              "      <td>4250.0</td>\n",
              "      <td>NaN</td>\n",
              "    </tr>\n",
              "  </tbody>\n",
              "</table>\n",
              "</div>\n",
              "      <button class=\"colab-df-convert\" onclick=\"convertToInteractive('df-fd9c5def-e838-4983-a52a-6bbc1c3d67c9')\"\n",
              "              title=\"Convert this dataframe to an interactive table.\"\n",
              "              style=\"display:none;\">\n",
              "        \n",
              "  <svg xmlns=\"http://www.w3.org/2000/svg\" height=\"24px\"viewBox=\"0 0 24 24\"\n",
              "       width=\"24px\">\n",
              "    <path d=\"M0 0h24v24H0V0z\" fill=\"none\"/>\n",
              "    <path d=\"M18.56 5.44l.94 2.06.94-2.06 2.06-.94-2.06-.94-.94-2.06-.94 2.06-2.06.94zm-11 1L8.5 8.5l.94-2.06 2.06-.94-2.06-.94L8.5 2.5l-.94 2.06-2.06.94zm10 10l.94 2.06.94-2.06 2.06-.94-2.06-.94-.94-2.06-.94 2.06-2.06.94z\"/><path d=\"M17.41 7.96l-1.37-1.37c-.4-.4-.92-.59-1.43-.59-.52 0-1.04.2-1.43.59L10.3 9.45l-7.72 7.72c-.78.78-.78 2.05 0 2.83L4 21.41c.39.39.9.59 1.41.59.51 0 1.02-.2 1.41-.59l7.78-7.78 2.81-2.81c.8-.78.8-2.07 0-2.86zM5.41 20L4 18.59l7.72-7.72 1.47 1.35L5.41 20z\"/>\n",
              "  </svg>\n",
              "      </button>\n",
              "      \n",
              "  <style>\n",
              "    .colab-df-container {\n",
              "      display:flex;\n",
              "      flex-wrap:wrap;\n",
              "      gap: 12px;\n",
              "    }\n",
              "\n",
              "    .colab-df-convert {\n",
              "      background-color: #E8F0FE;\n",
              "      border: none;\n",
              "      border-radius: 50%;\n",
              "      cursor: pointer;\n",
              "      display: none;\n",
              "      fill: #1967D2;\n",
              "      height: 32px;\n",
              "      padding: 0 0 0 0;\n",
              "      width: 32px;\n",
              "    }\n",
              "\n",
              "    .colab-df-convert:hover {\n",
              "      background-color: #E2EBFA;\n",
              "      box-shadow: 0px 1px 2px rgba(60, 64, 67, 0.3), 0px 1px 3px 1px rgba(60, 64, 67, 0.15);\n",
              "      fill: #174EA6;\n",
              "    }\n",
              "\n",
              "    [theme=dark] .colab-df-convert {\n",
              "      background-color: #3B4455;\n",
              "      fill: #D2E3FC;\n",
              "    }\n",
              "\n",
              "    [theme=dark] .colab-df-convert:hover {\n",
              "      background-color: #434B5C;\n",
              "      box-shadow: 0px 1px 3px 1px rgba(0, 0, 0, 0.15);\n",
              "      filter: drop-shadow(0px 1px 2px rgba(0, 0, 0, 0.3));\n",
              "      fill: #FFFFFF;\n",
              "    }\n",
              "  </style>\n",
              "\n",
              "      <script>\n",
              "        const buttonEl =\n",
              "          document.querySelector('#df-fd9c5def-e838-4983-a52a-6bbc1c3d67c9 button.colab-df-convert');\n",
              "        buttonEl.style.display =\n",
              "          google.colab.kernel.accessAllowed ? 'block' : 'none';\n",
              "\n",
              "        async function convertToInteractive(key) {\n",
              "          const element = document.querySelector('#df-fd9c5def-e838-4983-a52a-6bbc1c3d67c9');\n",
              "          const dataTable =\n",
              "            await google.colab.kernel.invokeFunction('convertToInteractive',\n",
              "                                                     [key], {});\n",
              "          if (!dataTable) return;\n",
              "\n",
              "          const docLinkHtml = 'Like what you see? Visit the ' +\n",
              "            '<a target=\"_blank\" href=https://colab.research.google.com/notebooks/data_table.ipynb>data table notebook</a>'\n",
              "            + ' to learn more about interactive tables.';\n",
              "          element.innerHTML = '';\n",
              "          dataTable['output_type'] = 'display_data';\n",
              "          await google.colab.output.renderOutput(dataTable, element);\n",
              "          const docLink = document.createElement('div');\n",
              "          docLink.innerHTML = docLinkHtml;\n",
              "          element.appendChild(docLink);\n",
              "        }\n",
              "      </script>\n",
              "    </div>\n",
              "  </div>\n",
              "  "
            ]
          },
          "metadata": {},
          "execution_count": 4
        }
      ]
    },
    {
      "cell_type": "markdown",
      "source": [
        "##Pre-Analytics Data"
      ],
      "metadata": {
        "id": "cTzNcMIrVzOo"
      }
    },
    {
      "cell_type": "code",
      "source": [
        "# checking the number of columns, column labels, column data types, memory usage, \n",
        "# range index, and the number of cells in each column (non-null values) in the penguin dataset.\n",
        "penguin_data_frame.info()"
      ],
      "metadata": {
        "colab": {
          "base_uri": "https://localhost:8080/"
        },
        "id": "ocYfF1znDvg7",
        "outputId": "709b77b0-9fb5-4e80-9b4e-eeed30290fc9"
      },
      "execution_count": null,
      "outputs": [
        {
          "output_type": "stream",
          "name": "stdout",
          "text": [
            "<class 'pandas.core.frame.DataFrame'>\n",
            "RangeIndex: 344 entries, 0 to 343\n",
            "Data columns (total 7 columns):\n",
            " #   Column             Non-Null Count  Dtype  \n",
            "---  ------             --------------  -----  \n",
            " 0   species            344 non-null    object \n",
            " 1   island             344 non-null    object \n",
            " 2   bill_length_mm     342 non-null    float64\n",
            " 3   bill_depth_mm      342 non-null    float64\n",
            " 4   flipper_length_mm  342 non-null    float64\n",
            " 5   body_mass_g        342 non-null    float64\n",
            " 6   sex                333 non-null    object \n",
            "dtypes: float64(4), object(3)\n",
            "memory usage: 18.9+ KB\n"
          ]
        }
      ]
    },
    {
      "cell_type": "code",
      "source": [
        "# Counting the number of penguins for each species\n",
        "penguin_data_frame.species.value_counts()"
      ],
      "metadata": {
        "colab": {
          "base_uri": "https://localhost:8080/"
        },
        "id": "UCCoR0RtF3Gp",
        "outputId": "c3725e42-505c-4708-8c48-0c826f59ca1a"
      },
      "execution_count": null,
      "outputs": [
        {
          "output_type": "execute_result",
          "data": {
            "text/plain": [
              "Adelie       152\n",
              "Gentoo       124\n",
              "Chinstrap     68\n",
              "Name: species, dtype: int64"
            ]
          },
          "metadata": {},
          "execution_count": 6
        }
      ]
    },
    {
      "cell_type": "code",
      "source": [
        "# checking the number of null values each columns have\n",
        "penguin_data_frame.isnull().sum()"
      ],
      "metadata": {
        "colab": {
          "base_uri": "https://localhost:8080/"
        },
        "id": "QChYsLCYJHz2",
        "outputId": "b322731b-ddc8-4cb5-c71c-671b3f39e0c6"
      },
      "execution_count": null,
      "outputs": [
        {
          "output_type": "execute_result",
          "data": {
            "text/plain": [
              "species               0\n",
              "island                0\n",
              "bill_length_mm        2\n",
              "bill_depth_mm         2\n",
              "flipper_length_mm     2\n",
              "body_mass_g           2\n",
              "sex                  11\n",
              "dtype: int64"
            ]
          },
          "metadata": {},
          "execution_count": 7
        }
      ]
    },
    {
      "cell_type": "code",
      "source": [
        "# replacing the null values of each columns, of floating values, with the median value \n",
        "for column_penguin in penguin_data_frame.select_dtypes(include='float', exclude='object'):\n",
        "  penguin_data_frame.loc[:,column_penguin].fillna(penguin_data_frame.loc[:,column_penguin].median(), axis=0, inplace=True)"
      ],
      "metadata": {
        "id": "shb_PV5HKDUt"
      },
      "execution_count": null,
      "outputs": []
    },
    {
      "cell_type": "code",
      "source": [
        "# replacing the null value of the column \"sex\" with the next row value\n",
        "penguin_data_frame.sex.fillna(method ='bfill', inplace = True)\n",
        "# Making a copy of the dataset for visualization\n",
        "penguin_data_frame_visualization = penguin_data_frame"
      ],
      "metadata": {
        "id": "W-yoiDboNLQB"
      },
      "execution_count": null,
      "outputs": []
    },
    {
      "cell_type": "code",
      "source": [
        "# checking if there is any null values left\n",
        "penguin_data_frame.isnull().sum()"
      ],
      "metadata": {
        "colab": {
          "base_uri": "https://localhost:8080/"
        },
        "id": "VnNqmfF8Nq2O",
        "outputId": "6f4755b4-f77c-454f-b895-32702af73310"
      },
      "execution_count": null,
      "outputs": [
        {
          "output_type": "execute_result",
          "data": {
            "text/plain": [
              "species              0\n",
              "island               0\n",
              "bill_length_mm       0\n",
              "bill_depth_mm        0\n",
              "flipper_length_mm    0\n",
              "body_mass_g          0\n",
              "sex                  0\n",
              "dtype: int64"
            ]
          },
          "metadata": {},
          "execution_count": 10
        }
      ]
    },
    {
      "cell_type": "code",
      "source": [
        "# Normalizing the non-numerical labels: \"species\", \"island\", \"sex\" using label encoding\n",
        "label_encoder = LabelEncoder()\n",
        "penguin_data_frame['species_label_encoded']= label_encoder.fit_transform(penguin_data_frame['species'])\n",
        "penguin_data_frame['island_label_encoded']= label_encoder.fit_transform(penguin_data_frame['island'])\n",
        "penguin_data_frame['sex_label_encoded']= label_encoder.fit_transform(penguin_data_frame['sex'])\n",
        "penguin_data_frame.head(10)"
      ],
      "metadata": {
        "colab": {
          "base_uri": "https://localhost:8080/",
          "height": 427
        },
        "id": "NRN0JlVhcmHa",
        "outputId": "f15f5e81-1e4d-4b37-8c2b-5ff35e548acf"
      },
      "execution_count": null,
      "outputs": [
        {
          "output_type": "execute_result",
          "data": {
            "text/plain": [
              "  species     island  bill_length_mm  bill_depth_mm  flipper_length_mm  \\\n",
              "0  Adelie  Torgersen           39.10           18.7              181.0   \n",
              "1  Adelie  Torgersen           39.50           17.4              186.0   \n",
              "2  Adelie  Torgersen           40.30           18.0              195.0   \n",
              "3  Adelie  Torgersen           44.45           17.3              197.0   \n",
              "4  Adelie  Torgersen           36.70           19.3              193.0   \n",
              "5  Adelie  Torgersen           39.30           20.6              190.0   \n",
              "6  Adelie  Torgersen           38.90           17.8              181.0   \n",
              "7  Adelie  Torgersen           39.20           19.6              195.0   \n",
              "8  Adelie  Torgersen           34.10           18.1              193.0   \n",
              "9  Adelie  Torgersen           42.00           20.2              190.0   \n",
              "\n",
              "   body_mass_g     sex  species_label_encoded  island_label_encoded  \\\n",
              "0       3750.0    male                      0                     2   \n",
              "1       3800.0  female                      0                     2   \n",
              "2       3250.0  female                      0                     2   \n",
              "3       4050.0  female                      0                     2   \n",
              "4       3450.0  female                      0                     2   \n",
              "5       3650.0    male                      0                     2   \n",
              "6       3625.0  female                      0                     2   \n",
              "7       4675.0    male                      0                     2   \n",
              "8       3475.0  female                      0                     2   \n",
              "9       4250.0  female                      0                     2   \n",
              "\n",
              "   sex_label_encoded  \n",
              "0                  1  \n",
              "1                  0  \n",
              "2                  0  \n",
              "3                  0  \n",
              "4                  0  \n",
              "5                  1  \n",
              "6                  0  \n",
              "7                  1  \n",
              "8                  0  \n",
              "9                  0  "
            ],
            "text/html": [
              "\n",
              "  <div id=\"df-d208ad23-2deb-45bb-bcdb-25e44ef3b85a\">\n",
              "    <div class=\"colab-df-container\">\n",
              "      <div>\n",
              "<style scoped>\n",
              "    .dataframe tbody tr th:only-of-type {\n",
              "        vertical-align: middle;\n",
              "    }\n",
              "\n",
              "    .dataframe tbody tr th {\n",
              "        vertical-align: top;\n",
              "    }\n",
              "\n",
              "    .dataframe thead th {\n",
              "        text-align: right;\n",
              "    }\n",
              "</style>\n",
              "<table border=\"1\" class=\"dataframe\">\n",
              "  <thead>\n",
              "    <tr style=\"text-align: right;\">\n",
              "      <th></th>\n",
              "      <th>species</th>\n",
              "      <th>island</th>\n",
              "      <th>bill_length_mm</th>\n",
              "      <th>bill_depth_mm</th>\n",
              "      <th>flipper_length_mm</th>\n",
              "      <th>body_mass_g</th>\n",
              "      <th>sex</th>\n",
              "      <th>species_label_encoded</th>\n",
              "      <th>island_label_encoded</th>\n",
              "      <th>sex_label_encoded</th>\n",
              "    </tr>\n",
              "  </thead>\n",
              "  <tbody>\n",
              "    <tr>\n",
              "      <th>0</th>\n",
              "      <td>Adelie</td>\n",
              "      <td>Torgersen</td>\n",
              "      <td>39.10</td>\n",
              "      <td>18.7</td>\n",
              "      <td>181.0</td>\n",
              "      <td>3750.0</td>\n",
              "      <td>male</td>\n",
              "      <td>0</td>\n",
              "      <td>2</td>\n",
              "      <td>1</td>\n",
              "    </tr>\n",
              "    <tr>\n",
              "      <th>1</th>\n",
              "      <td>Adelie</td>\n",
              "      <td>Torgersen</td>\n",
              "      <td>39.50</td>\n",
              "      <td>17.4</td>\n",
              "      <td>186.0</td>\n",
              "      <td>3800.0</td>\n",
              "      <td>female</td>\n",
              "      <td>0</td>\n",
              "      <td>2</td>\n",
              "      <td>0</td>\n",
              "    </tr>\n",
              "    <tr>\n",
              "      <th>2</th>\n",
              "      <td>Adelie</td>\n",
              "      <td>Torgersen</td>\n",
              "      <td>40.30</td>\n",
              "      <td>18.0</td>\n",
              "      <td>195.0</td>\n",
              "      <td>3250.0</td>\n",
              "      <td>female</td>\n",
              "      <td>0</td>\n",
              "      <td>2</td>\n",
              "      <td>0</td>\n",
              "    </tr>\n",
              "    <tr>\n",
              "      <th>3</th>\n",
              "      <td>Adelie</td>\n",
              "      <td>Torgersen</td>\n",
              "      <td>44.45</td>\n",
              "      <td>17.3</td>\n",
              "      <td>197.0</td>\n",
              "      <td>4050.0</td>\n",
              "      <td>female</td>\n",
              "      <td>0</td>\n",
              "      <td>2</td>\n",
              "      <td>0</td>\n",
              "    </tr>\n",
              "    <tr>\n",
              "      <th>4</th>\n",
              "      <td>Adelie</td>\n",
              "      <td>Torgersen</td>\n",
              "      <td>36.70</td>\n",
              "      <td>19.3</td>\n",
              "      <td>193.0</td>\n",
              "      <td>3450.0</td>\n",
              "      <td>female</td>\n",
              "      <td>0</td>\n",
              "      <td>2</td>\n",
              "      <td>0</td>\n",
              "    </tr>\n",
              "    <tr>\n",
              "      <th>5</th>\n",
              "      <td>Adelie</td>\n",
              "      <td>Torgersen</td>\n",
              "      <td>39.30</td>\n",
              "      <td>20.6</td>\n",
              "      <td>190.0</td>\n",
              "      <td>3650.0</td>\n",
              "      <td>male</td>\n",
              "      <td>0</td>\n",
              "      <td>2</td>\n",
              "      <td>1</td>\n",
              "    </tr>\n",
              "    <tr>\n",
              "      <th>6</th>\n",
              "      <td>Adelie</td>\n",
              "      <td>Torgersen</td>\n",
              "      <td>38.90</td>\n",
              "      <td>17.8</td>\n",
              "      <td>181.0</td>\n",
              "      <td>3625.0</td>\n",
              "      <td>female</td>\n",
              "      <td>0</td>\n",
              "      <td>2</td>\n",
              "      <td>0</td>\n",
              "    </tr>\n",
              "    <tr>\n",
              "      <th>7</th>\n",
              "      <td>Adelie</td>\n",
              "      <td>Torgersen</td>\n",
              "      <td>39.20</td>\n",
              "      <td>19.6</td>\n",
              "      <td>195.0</td>\n",
              "      <td>4675.0</td>\n",
              "      <td>male</td>\n",
              "      <td>0</td>\n",
              "      <td>2</td>\n",
              "      <td>1</td>\n",
              "    </tr>\n",
              "    <tr>\n",
              "      <th>8</th>\n",
              "      <td>Adelie</td>\n",
              "      <td>Torgersen</td>\n",
              "      <td>34.10</td>\n",
              "      <td>18.1</td>\n",
              "      <td>193.0</td>\n",
              "      <td>3475.0</td>\n",
              "      <td>female</td>\n",
              "      <td>0</td>\n",
              "      <td>2</td>\n",
              "      <td>0</td>\n",
              "    </tr>\n",
              "    <tr>\n",
              "      <th>9</th>\n",
              "      <td>Adelie</td>\n",
              "      <td>Torgersen</td>\n",
              "      <td>42.00</td>\n",
              "      <td>20.2</td>\n",
              "      <td>190.0</td>\n",
              "      <td>4250.0</td>\n",
              "      <td>female</td>\n",
              "      <td>0</td>\n",
              "      <td>2</td>\n",
              "      <td>0</td>\n",
              "    </tr>\n",
              "  </tbody>\n",
              "</table>\n",
              "</div>\n",
              "      <button class=\"colab-df-convert\" onclick=\"convertToInteractive('df-d208ad23-2deb-45bb-bcdb-25e44ef3b85a')\"\n",
              "              title=\"Convert this dataframe to an interactive table.\"\n",
              "              style=\"display:none;\">\n",
              "        \n",
              "  <svg xmlns=\"http://www.w3.org/2000/svg\" height=\"24px\"viewBox=\"0 0 24 24\"\n",
              "       width=\"24px\">\n",
              "    <path d=\"M0 0h24v24H0V0z\" fill=\"none\"/>\n",
              "    <path d=\"M18.56 5.44l.94 2.06.94-2.06 2.06-.94-2.06-.94-.94-2.06-.94 2.06-2.06.94zm-11 1L8.5 8.5l.94-2.06 2.06-.94-2.06-.94L8.5 2.5l-.94 2.06-2.06.94zm10 10l.94 2.06.94-2.06 2.06-.94-2.06-.94-.94-2.06-.94 2.06-2.06.94z\"/><path d=\"M17.41 7.96l-1.37-1.37c-.4-.4-.92-.59-1.43-.59-.52 0-1.04.2-1.43.59L10.3 9.45l-7.72 7.72c-.78.78-.78 2.05 0 2.83L4 21.41c.39.39.9.59 1.41.59.51 0 1.02-.2 1.41-.59l7.78-7.78 2.81-2.81c.8-.78.8-2.07 0-2.86zM5.41 20L4 18.59l7.72-7.72 1.47 1.35L5.41 20z\"/>\n",
              "  </svg>\n",
              "      </button>\n",
              "      \n",
              "  <style>\n",
              "    .colab-df-container {\n",
              "      display:flex;\n",
              "      flex-wrap:wrap;\n",
              "      gap: 12px;\n",
              "    }\n",
              "\n",
              "    .colab-df-convert {\n",
              "      background-color: #E8F0FE;\n",
              "      border: none;\n",
              "      border-radius: 50%;\n",
              "      cursor: pointer;\n",
              "      display: none;\n",
              "      fill: #1967D2;\n",
              "      height: 32px;\n",
              "      padding: 0 0 0 0;\n",
              "      width: 32px;\n",
              "    }\n",
              "\n",
              "    .colab-df-convert:hover {\n",
              "      background-color: #E2EBFA;\n",
              "      box-shadow: 0px 1px 2px rgba(60, 64, 67, 0.3), 0px 1px 3px 1px rgba(60, 64, 67, 0.15);\n",
              "      fill: #174EA6;\n",
              "    }\n",
              "\n",
              "    [theme=dark] .colab-df-convert {\n",
              "      background-color: #3B4455;\n",
              "      fill: #D2E3FC;\n",
              "    }\n",
              "\n",
              "    [theme=dark] .colab-df-convert:hover {\n",
              "      background-color: #434B5C;\n",
              "      box-shadow: 0px 1px 3px 1px rgba(0, 0, 0, 0.15);\n",
              "      filter: drop-shadow(0px 1px 2px rgba(0, 0, 0, 0.3));\n",
              "      fill: #FFFFFF;\n",
              "    }\n",
              "  </style>\n",
              "\n",
              "      <script>\n",
              "        const buttonEl =\n",
              "          document.querySelector('#df-d208ad23-2deb-45bb-bcdb-25e44ef3b85a button.colab-df-convert');\n",
              "        buttonEl.style.display =\n",
              "          google.colab.kernel.accessAllowed ? 'block' : 'none';\n",
              "\n",
              "        async function convertToInteractive(key) {\n",
              "          const element = document.querySelector('#df-d208ad23-2deb-45bb-bcdb-25e44ef3b85a');\n",
              "          const dataTable =\n",
              "            await google.colab.kernel.invokeFunction('convertToInteractive',\n",
              "                                                     [key], {});\n",
              "          if (!dataTable) return;\n",
              "\n",
              "          const docLinkHtml = 'Like what you see? Visit the ' +\n",
              "            '<a target=\"_blank\" href=https://colab.research.google.com/notebooks/data_table.ipynb>data table notebook</a>'\n",
              "            + ' to learn more about interactive tables.';\n",
              "          element.innerHTML = '';\n",
              "          dataTable['output_type'] = 'display_data';\n",
              "          await google.colab.output.renderOutput(dataTable, element);\n",
              "          const docLink = document.createElement('div');\n",
              "          docLink.innerHTML = docLinkHtml;\n",
              "          element.appendChild(docLink);\n",
              "        }\n",
              "      </script>\n",
              "    </div>\n",
              "  </div>\n",
              "  "
            ]
          },
          "metadata": {},
          "execution_count": 11
        }
      ]
    },
    {
      "cell_type": "code",
      "source": [
        "# Outlier Removal by z score treatment\n",
        "# Calculating the boundary values:\n",
        "features = ['bill_length_mm', 'bill_depth_mm','flipper_length_mm', 'body_mass_g', 'species_label_encoded', 'island_label_encoded', 'sex_label_encoded']\n",
        "for column_penguin in penguin_data_frame[features]:\n",
        "  print(\"Highest allowed in {} is: {}\".format(column_penguin, penguin_data_frame[column_penguin].mean() + 3 * penguin_data_frame[column_penguin].std()))\n",
        "  print(\"Lowest allowed in {} is: {}\\n\\n\".format(column_penguin, penguin_data_frame[column_penguin].mean() - 3 * penguin_data_frame[column_penguin].std()))                                          \n"
      ],
      "metadata": {
        "colab": {
          "base_uri": "https://localhost:8080/"
        },
        "id": "qINyNpuvXJTN",
        "outputId": "e5ea89dc-b1dd-4038-ff4d-80fa0d97a429"
      },
      "execution_count": null,
      "outputs": [
        {
          "output_type": "stream",
          "name": "stdout",
          "text": [
            "Highest allowed in bill_length_mm is: 60.25637530160833\n",
            "Lowest allowed in bill_length_mm is: 27.593624698391675\n",
            "\n",
            "\n",
            "Highest allowed in bill_depth_mm is: 23.059214677853788\n",
            "Lowest allowed in bill_depth_mm is: 11.244855089588071\n",
            "\n",
            "\n",
            "Highest allowed in flipper_length_mm is: 242.96392008847832\n",
            "Lowest allowed in flipper_length_mm is: 158.8209636324519\n",
            "\n",
            "\n",
            "Highest allowed in body_mass_g is: 6599.961689147137\n",
            "Lowest allowed in body_mass_g is: 1801.7824968993746\n",
            "\n",
            "\n",
            "Highest allowed in species_label_encoded is: 3.598563949890442\n",
            "Lowest allowed in species_label_encoded is: -1.7613546475648607\n",
            "\n",
            "\n",
            "Highest allowed in island_label_encoded is: 2.8413728243608265\n",
            "Lowest allowed in island_label_encoded is: -1.5157914290119896\n",
            "\n",
            "\n",
            "Highest allowed in sex_label_encoded is: 2.0021849975165673\n",
            "Lowest allowed in sex_label_encoded is: -1.0021849975165673\n",
            "\n",
            "\n"
          ]
        }
      ]
    },
    {
      "cell_type": "code",
      "source": [
        "# Finding out the outliers in the penguin dataset\n",
        "print(penguin_data_frame[(penguin_data_frame['bill_length_mm'] > 60.25637530160835) | (penguin_data_frame['bill_length_mm'] < 27.5936246983917)])\n",
        "print(penguin_data_frame[(penguin_data_frame['bill_depth_mm'] > 23.0592146778538) | (penguin_data_frame['bill_depth_mm'] < 11.244855089588075)])\n",
        "print(penguin_data_frame[(penguin_data_frame['flipper_length_mm'] > 242.96392008847835) | (penguin_data_frame['flipper_length_mm'] < 158.82096363245188)])\n",
        "print(penguin_data_frame[(penguin_data_frame['body_mass_g'] > 6599.961689147138) | (penguin_data_frame['body_mass_g'] < 1801.782496899374)])\n",
        "print(penguin_data_frame[(penguin_data_frame['species_label_encoded'] > 3.5985639498904427) | (penguin_data_frame['species_label_encoded'] < -1.7613546475648616)])\n",
        "print(penguin_data_frame[(penguin_data_frame['island_label_encoded'] > 2.841372824360822) | (penguin_data_frame['island_label_encoded'] < -1.5157914290119852)])\n",
        "print(penguin_data_frame[(penguin_data_frame['sex_label_encoded'] > 2.0021849975165673) | (penguin_data_frame['sex_label_encoded'] < -1.0021849975165673)])\n",
        "# all of them return as empty dataframe which means that the dataset does not have any outliers"
      ],
      "metadata": {
        "colab": {
          "base_uri": "https://localhost:8080/"
        },
        "id": "qfd12Iolr-H3",
        "outputId": "b398a9e5-7a56-4872-e69c-839b587ff244"
      },
      "execution_count": null,
      "outputs": [
        {
          "output_type": "stream",
          "name": "stdout",
          "text": [
            "Empty DataFrame\n",
            "Columns: [species, island, bill_length_mm, bill_depth_mm, flipper_length_mm, body_mass_g, sex, species_label_encoded, island_label_encoded, sex_label_encoded]\n",
            "Index: []\n",
            "Empty DataFrame\n",
            "Columns: [species, island, bill_length_mm, bill_depth_mm, flipper_length_mm, body_mass_g, sex, species_label_encoded, island_label_encoded, sex_label_encoded]\n",
            "Index: []\n",
            "Empty DataFrame\n",
            "Columns: [species, island, bill_length_mm, bill_depth_mm, flipper_length_mm, body_mass_g, sex, species_label_encoded, island_label_encoded, sex_label_encoded]\n",
            "Index: []\n",
            "Empty DataFrame\n",
            "Columns: [species, island, bill_length_mm, bill_depth_mm, flipper_length_mm, body_mass_g, sex, species_label_encoded, island_label_encoded, sex_label_encoded]\n",
            "Index: []\n",
            "Empty DataFrame\n",
            "Columns: [species, island, bill_length_mm, bill_depth_mm, flipper_length_mm, body_mass_g, sex, species_label_encoded, island_label_encoded, sex_label_encoded]\n",
            "Index: []\n",
            "Empty DataFrame\n",
            "Columns: [species, island, bill_length_mm, bill_depth_mm, flipper_length_mm, body_mass_g, sex, species_label_encoded, island_label_encoded, sex_label_encoded]\n",
            "Index: []\n",
            "Empty DataFrame\n",
            "Columns: [species, island, bill_length_mm, bill_depth_mm, flipper_length_mm, body_mass_g, sex, species_label_encoded, island_label_encoded, sex_label_encoded]\n",
            "Index: []\n"
          ]
        }
      ]
    },
    {
      "cell_type": "markdown",
      "source": [
        "##Feature Selection\n",
        "<p>For feature selection, we are using Feature Importance and heatmap of correlation matrix.</p>\n",
        "Feature importance technique is used to choose the importance features. It basically uses a trained supervised classifier to select features. We can implement this feature selection technique with the help of ExtraTreeClassifier class of scikit-learn Python library.The higher the score, higher is the importance of that attribute."
      ],
      "metadata": {
        "id": "JcBYL9ko6Ek2"
      }
    },
    {
      "cell_type": "code",
      "source": [
        "# Droping the non-numerical values \n",
        "penguin_data_frame_copy = penguin_data_frame.copy()\n",
        "penguin_data_frame_copy.drop(['species', 'island', 'sex'], inplace=True, axis=1)"
      ],
      "metadata": {
        "id": "p-Do7vBDANfR"
      },
      "execution_count": null,
      "outputs": []
    },
    {
      "cell_type": "code",
      "source": [
        "# Using feature importance\n",
        "train_data = penguin_data_frame_copy.values\n",
        "X = train_data[:,0:6]\n",
        "Y = train_data[:,6]\n",
        "model = ExtraTreesClassifier()\n",
        "model.fit(X, Y)\n",
        "print(model.feature_importances_)"
      ],
      "metadata": {
        "colab": {
          "base_uri": "https://localhost:8080/"
        },
        "id": "z47R9RKu73rD",
        "outputId": "1ad03f74-ac1b-44da-b321-3017d88bc627"
      },
      "execution_count": null,
      "outputs": [
        {
          "output_type": "stream",
          "name": "stdout",
          "text": [
            "[0.19944873 0.27913285 0.15212571 0.29786679 0.04435682 0.0270691 ]\n"
          ]
        }
      ]
    },
    {
      "cell_type": "code",
      "source": [
        "# Heatmap of correlation matrix \n",
        "features = ['bill_length_mm', 'bill_depth_mm','flipper_length_mm', 'body_mass_g', 'species_label_encoded', 'island_label_encoded']\n",
        "corelation = penguin_data_frame[features].corr()\n",
        "heatmap = sns.heatmap(corelation, annot = True)\n",
        "heatmap.set(xlabel='Features', ylabel='Features', title = \"Correlation matrix of data\\n\")\n",
        "plt.show()"
      ],
      "metadata": {
        "colab": {
          "base_uri": "https://localhost:8080/",
          "height": 415
        },
        "id": "LcBW1QSF_Rnv",
        "outputId": "ea3a7ebb-0ff7-4131-8d82-ebaf6c694c98"
      },
      "execution_count": null,
      "outputs": [
        {
          "output_type": "display_data",
          "data": {
            "text/plain": [
              "<Figure size 432x288 with 2 Axes>"
            ],
            "image/png": "[encoded data removed]"
          },
          "metadata": {
            "needs_background": "light"
          }
        }
      ]
    },
    {
      "cell_type": "markdown",
      "source": [
        "## Supervised Learning (Decision tree)"
      ],
      "metadata": {
        "id": "p9h_FuH24bNz"
      }
    },
    {
      "cell_type": "code",
      "source": [
        "# Normalization of the features bill_length_mm,bill_depth_mm,flipper_length_mm, body_mass_g\n",
        "from sklearn.preprocessing import StandardScaler\n",
        "\n",
        "for column in penguin_data_frame[['bill_length_mm','bill_depth_mm','flipper_length_mm','body_mass_g']]:\n",
        "  penguin_data_frame[column] = StandardScaler().fit_transform(penguin_data_frame[[column]])"
      ],
      "metadata": {
        "id": "yR9wMdJEi-W4"
      },
      "execution_count": null,
      "outputs": []
    },
    {
      "cell_type": "code",
      "source": [
        "# Splitting the dataset into test and train data\n",
        "features = ['bill_length_mm', 'bill_depth_mm','flipper_length_mm', 'body_mass_g', 'island_label_encoded', 'sex_label_encoded']\n",
        "# since these are the features, we take them as x\n",
        "x_feature = penguin_data_frame[features]\n",
        "# since species is the output or label we'll take it as y\n",
        "y_label = penguin_data_frame['species_label_encoded']\n",
        "x_train, x_test, y_train, y_test = train_test_split(x_feature, y_label, test_size = 0.2, train_size = 0.8,\n",
        "                                                    random_state = 42, shuffle=True, \n",
        "                                                    stratify = y_label)\n",
        "print(\"\\nShape of x_train:\\n{}\".format(x_train.shape))\n",
        "print(\"\\nShape of x_test:\\n{}\".format(x_test.shape))\n",
        "print(\"\\nShape of y_train:\\n{}\".format(y_train.shape))\n",
        "print(\"\\nShape of y_test:\\n{}\".format(y_test.shape))"
      ],
      "metadata": {
        "colab": {
          "base_uri": "https://localhost:8080/"
        },
        "id": "0zuFdAG84hsZ",
        "outputId": "0bfb80bd-3da0-4fef-ad92-97427fd84ce3"
      },
      "execution_count": null,
      "outputs": [
        {
          "output_type": "stream",
          "name": "stdout",
          "text": [
            "\n",
            "Shape of x_train:\n",
            "(275, 6)\n",
            "\n",
            "Shape of x_test:\n",
            "(69, 6)\n",
            "\n",
            "Shape of y_train:\n",
            "(275,)\n",
            "\n",
            "Shape of y_test:\n",
            "(69,)\n"
          ]
        }
      ]
    },
    {
      "cell_type": "code",
      "source": [
        "from sklearn.tree import DecisionTreeClassifier\n",
        "model_decision_tree = DecisionTreeClassifier()\n",
        "model_decision_tree = model_decision_tree.fit(x_train, y_train)\n",
        "y_prediction_decision_tree = model_decision_tree.predict(x_test)\n",
        "report=pd.DataFrame()\n",
        "report['Actual values'] = y_test\n",
        "report['Predicted values of Decision tree']= y_prediction_decision_tree\n",
        "print(report)\n",
        "\n",
        "from sklearn.metrics import accuracy_score\n",
        "print(\"\\n\\nAccuracy for Decision tree: \", accuracy_score(y_test, y_prediction_decision_tree))"
      ],
      "metadata": {
        "colab": {
          "base_uri": "https://localhost:8080/"
        },
        "id": "80Qwdz4iZhDP",
        "outputId": "af4af9e2-9e04-47e8-ef33-cdd21d67c794"
      },
      "execution_count": null,
      "outputs": [
        {
          "output_type": "stream",
          "name": "stdout",
          "text": [
            "     Actual values  Predicted values of Decision tree\n",
            "151              0                                  0\n",
            "1                0                                  0\n",
            "226              2                                  2\n",
            "269              2                                  2\n",
            "282              1                                  1\n",
            "..             ...                                ...\n",
            "288              1                                  1\n",
            "168              2                                  2\n",
            "52               0                                  0\n",
            "121              0                                  0\n",
            "249              2                                  2\n",
            "\n",
            "[69 rows x 2 columns]\n",
            "\n",
            "\n",
            "Accuracy for Decision tree:  0.9855072463768116\n"
          ]
        }
      ]
    },
    {
      "cell_type": "code",
      "source": [
        "# Classification Report\n",
        "from sklearn.metrics import classification_report\n",
        "\n",
        "print(\"Classification Report of Decision tree:\")\n",
        "print(classification_report(y_test, y_prediction_decision_tree))"
      ],
      "metadata": {
        "colab": {
          "base_uri": "https://localhost:8080/"
        },
        "id": "LRb3r3dTsdnK",
        "outputId": "290df3c8-2ab9-4d98-e682-cca1d6faedd1"
      },
      "execution_count": null,
      "outputs": [
        {
          "output_type": "stream",
          "name": "stdout",
          "text": [
            "Classification Report of Decision tree:\n",
            "              precision    recall  f1-score   support\n",
            "\n",
            "           0       1.00      0.97      0.98        30\n",
            "           1       1.00      1.00      1.00        14\n",
            "           2       0.96      1.00      0.98        25\n",
            "\n",
            "    accuracy                           0.99        69\n",
            "   macro avg       0.99      0.99      0.99        69\n",
            "weighted avg       0.99      0.99      0.99        69\n",
            "\n"
          ]
        }
      ]
    },
    {
      "cell_type": "markdown",
      "source": [
        "## Optimization of Decision tree using RandomizedSearchCV"
      ],
      "metadata": {
        "id": "REEg2-1swfJ9"
      }
    },
    {
      "cell_type": "code",
      "source": [
        "# importing the RandomizedSearchCV from model selection of sklearn\n",
        "from sklearn.model_selection import RandomizedSearchCV"
      ],
      "metadata": {
        "id": "vwsfKVeSxNY0"
      },
      "execution_count": null,
      "outputs": []
    },
    {
      "cell_type": "code",
      "source": [
        "# Setting the parameters of DecisionTreeClassifier to check which parameter provides the best results\n",
        "parameters = {'max_depth' : (3, 5, 7, 9, 11, 13, 15, 17, 19, 21),\n",
        "              'criterion' : ('gini', 'entropy'),\n",
        "              'max_features' : ('auto', 'sqrt', 'log2'),\n",
        "              'min_samples_split' : (2, 4, 6, 8, 10)\n",
        "             }"
      ],
      "metadata": {
        "id": "1ao36zs5xNZ0"
      },
      "execution_count": null,
      "outputs": []
    },
    {
      "cell_type": "code",
      "source": [
        "decision_tree_optimization = RandomizedSearchCV(DecisionTreeClassifier(), \n",
        "                                                param_distributions = parameters, cv = 10, verbose = True)\n",
        "decision_tree_optimization.fit(x_train, y_train)"
      ],
      "metadata": {
        "id": "L7cvTYPV2E8v",
        "colab": {
          "base_uri": "https://localhost:8080/"
        },
        "outputId": "43501532-5a67-413b-d61e-93276f29f8d1"
      },
      "execution_count": null,
      "outputs": [
        {
          "output_type": "stream",
          "name": "stdout",
          "text": [
            "Fitting 10 folds for each of 10 candidates, totalling 100 fits\n"
          ]
        },
        {
          "output_type": "execute_result",
          "data": {
            "text/plain": [
              "RandomizedSearchCV(cv=10, estimator=DecisionTreeClassifier(),\n",
              "                   param_distributions={'criterion': ('gini', 'entropy'),\n",
              "                                        'max_depth': (3, 5, 7, 9, 11, 13, 15,\n",
              "                                                      17, 19, 21),\n",
              "                                        'max_features': ('auto', 'sqrt',\n",
              "                                                         'log2'),\n",
              "                                        'min_samples_split': (2, 4, 6, 8, 10)},\n",
              "                   verbose=True)"
            ]
          },
          "metadata": {},
          "execution_count": 32
        }
      ]
    },
    {
      "cell_type": "code",
      "source": [
        "decision_tree_optimization.best_estimator_"
      ],
      "metadata": {
        "colab": {
          "base_uri": "https://localhost:8080/"
        },
        "id": "0nNF4xTuQLmY",
        "outputId": "947c4c2b-7721-4b73-f72d-bf19563d090e"
      },
      "execution_count": null,
      "outputs": [
        {
          "output_type": "execute_result",
          "data": {
            "text/plain": [
              "DecisionTreeClassifier(criterion='entropy', max_depth=17, max_features='log2',\n",
              "                       min_samples_split=4)"
            ]
          },
          "metadata": {},
          "execution_count": 33
        }
      ]
    },
    {
      "cell_type": "code",
      "source": [
        "#Building the Model with Best Estimators\n",
        "model_decision_tree = DecisionTreeClassifier(class_weight=None, criterion='entropy',\n",
        "                       max_depth=17, max_features='log2', max_leaf_nodes=None,\n",
        "                       min_impurity_decrease=0.0, min_samples_leaf=1, min_samples_split=4,\n",
        "                       min_weight_fraction_leaf=0.0,random_state=None, splitter='best',ccp_alpha=0.0)\n",
        "\n",
        "model_decision_tree.fit(x_train,y_train)"
      ],
      "metadata": {
        "colab": {
          "base_uri": "https://localhost:8080/"
        },
        "id": "yGNkpoBs2s1y",
        "outputId": "76a90288-82f8-423d-871b-1990f817071e"
      },
      "execution_count": null,
      "outputs": [
        {
          "output_type": "execute_result",
          "data": {
            "text/plain": [
              "DecisionTreeClassifier(criterion='entropy', max_depth=17, max_features='log2',\n",
              "                       min_samples_split=4)"
            ]
          },
          "metadata": {},
          "execution_count": 35
        }
      ]
    },
    {
      "cell_type": "code",
      "source": [
        "print (f'Train Accuracy: {model_decision_tree.score(x_train,y_train):.4f}')\n",
        "print (f'Test Accuracy: {model_decision_tree.score(x_test,y_test):.4f}')"
      ],
      "metadata": {
        "colab": {
          "base_uri": "https://localhost:8080/"
        },
        "id": "muKvOkQ44hkZ",
        "outputId": "2eea46f0-4581-4abe-8151-1dad333b17f7"
      },
      "execution_count": null,
      "outputs": [
        {
          "output_type": "stream",
          "name": "stdout",
          "text": [
            "Train Accuracy: 0.9891\n",
            "Test Accuracy: 1.0000\n"
          ]
        }
      ]
    },
    {
      "cell_type": "code",
      "source": [
        "from sklearn.tree import export_graphviz\n",
        "import graphviz\n",
        "dot_data = export_graphviz(model_decision_tree,   \n",
        "                      out_file = None, \n",
        "                      feature_names = x_feature.columns,\n",
        "                      class_names = ['Adelie', 'Gentoo', 'Chinstrap'],\n",
        "                      filled = True, rounded = True,\n",
        "                      special_characters=True)  \n",
        "graph_DT = graphviz.Source(dot_data)  \n",
        "graph_DT "
      ],
      "metadata": {
        "id": "CeFp0_4n4vQZ",
        "colab": {
          "base_uri": "https://localhost:8080/",
          "height": 1000
        },
        "outputId": "81904e7d-7987-415b-c257-7ecbe0ebc350"
      },
      "execution_count": null,
      "outputs": [
        {
          "output_type": "execute_result",
          "data": {
            "text/plain": [
              "<graphviz.files.Source at 0x7f00e3ed1410>"
            ],
            "image/svg+xml": "<?xml version=\"1.0\" encoding=\"UTF-8\" standalone=\"no\"?>\n<!DOCTYPE svg PUBLIC \"-//W3C//DTD SVG 1.1//EN\"\n \"http://www.w3.org/Graphics/SVG/1.1/DTD/svg11.dtd\">\n<!-- Generated by graphviz version 2.40.1 (20161225.0304)\n -->\n<!-- Title: Tree Pages: 1 -->\n<svg width=\"1795pt\" height=\"909pt\"\n viewBox=\"0.00 0.00 1794.50 909.00\" xmlns=\"http://www.w3.org/2000/svg\" xmlns:xlink=\"http://www.w3.org/1999/xlink\">\n<g id=\"graph0\" class=\"graph\" transform=\"scale(1 1) rotate(0) translate(4 905)\">\n<title>Tree</title>\n<polygon fill=\"#ffffff\" stroke=\"transparent\" points=\"-4,4 -4,-905 1790.5,-905 1790.5,4 -4,4\"/>\n<!-- 0 -->\n<g id=\"node1\" class=\"node\">\n<title>0</title>\n<path fill=\"#fcefe5\" stroke=\"#000000\" d=\"M1104,-901C1104,-901 957,-901 957,-901 951,-901 945,-895 945,-889 945,-889 945,-830 945,-830 945,-824 951,-818 957,-818 957,-818 1104,-818 1104,-818 1110,-818 1116,-824 1116,-830 1116,-830 1116,-889 1116,-889 1116,-895 1110,-901 1104,-901\"/>\n<text text-anchor=\"start\" x=\"953\" y=\"-885.8\" font-family=\"Helvetica,sans-Serif\" font-size=\"14.00\" fill=\"#000000\">flipper_length_mm ≤ 0.4</text>\n<text text-anchor=\"start\" x=\"979.5\" y=\"-870.8\" font-family=\"Helvetica,sans-Serif\" font-size=\"14.00\" fill=\"#000000\">entropy = 1.512</text>\n<text text-anchor=\"start\" x=\"982.5\" y=\"-855.8\" font-family=\"Helvetica,sans-Serif\" font-size=\"14.00\" fill=\"#000000\">samples = 275</text>\n<text text-anchor=\"start\" x=\"964.5\" y=\"-840.8\" font-family=\"Helvetica,sans-Serif\" font-size=\"14.00\" fill=\"#000000\">value = [122, 54, 99]</text>\n<text text-anchor=\"start\" x=\"985.5\" y=\"-825.8\" font-family=\"Helvetica,sans-Serif\" font-size=\"14.00\" fill=\"#000000\">class = Adelie</text>\n</g>\n<!-- 1 -->\n<g id=\"node2\" class=\"node\">\n<title>1</title>\n<path fill=\"#f0b58b\" stroke=\"#000000\" d=\"M936.5,-782C936.5,-782 790.5,-782 790.5,-782 784.5,-782 778.5,-776 778.5,-770 778.5,-770 778.5,-711 778.5,-711 778.5,-705 784.5,-699 790.5,-699 790.5,-699 936.5,-699 936.5,-699 942.5,-699 948.5,-705 948.5,-711 948.5,-711 948.5,-770 948.5,-770 948.5,-776 942.5,-782 936.5,-782\"/>\n<text text-anchor=\"start\" x=\"786.5\" y=\"-766.8\" font-family=\"Helvetica,sans-Serif\" font-size=\"14.00\" fill=\"#000000\">bill_length_mm ≤ &#45;0.106</text>\n<text text-anchor=\"start\" x=\"812.5\" y=\"-751.8\" font-family=\"Helvetica,sans-Serif\" font-size=\"14.00\" fill=\"#000000\">entropy = 0.948</text>\n<text text-anchor=\"start\" x=\"815.5\" y=\"-736.8\" font-family=\"Helvetica,sans-Serif\" font-size=\"14.00\" fill=\"#000000\">samples = 172</text>\n<text text-anchor=\"start\" x=\"801.5\" y=\"-721.8\" font-family=\"Helvetica,sans-Serif\" font-size=\"14.00\" fill=\"#000000\">value = [121, 49, 2]</text>\n<text text-anchor=\"start\" x=\"818.5\" y=\"-706.8\" font-family=\"Helvetica,sans-Serif\" font-size=\"14.00\" fill=\"#000000\">class = Adelie</text>\n</g>\n<!-- 0&#45;&gt;1 -->\n<g id=\"edge1\" class=\"edge\">\n<title>0&#45;&gt;1</title>\n<path fill=\"none\" stroke=\"#000000\" d=\"M972.0915,-817.8796C958.6161,-808.2774 944.1797,-797.9903 930.375,-788.1534\"/>\n<polygon fill=\"#000000\" stroke=\"#000000\" points=\"932.0506,-785.0497 921.8755,-782.0969 927.9883,-790.7505 932.0506,-785.0497\"/>\n<text text-anchor=\"middle\" x=\"926.0134\" y=\"-803.0521\" font-family=\"Helvetica,sans-Serif\" font-size=\"14.00\" fill=\"#000000\">True</text>\n</g>\n<!-- 26 -->\n<g id=\"node27\" class=\"node\">\n<title>26</title>\n<path fill=\"#8945e7\" stroke=\"#000000\" d=\"M1266,-782C1266,-782 1129,-782 1129,-782 1123,-782 1117,-776 1117,-770 1117,-770 1117,-711 1117,-711 1117,-705 1123,-699 1129,-699 1129,-699 1266,-699 1266,-699 1272,-699 1278,-705 1278,-711 1278,-711 1278,-770 1278,-770 1278,-776 1272,-782 1266,-782\"/>\n<text text-anchor=\"start\" x=\"1125\" y=\"-766.8\" font-family=\"Helvetica,sans-Serif\" font-size=\"14.00\" fill=\"#000000\">body_mass_g ≤ 0.155</text>\n<text text-anchor=\"start\" x=\"1146.5\" y=\"-751.8\" font-family=\"Helvetica,sans-Serif\" font-size=\"14.00\" fill=\"#000000\">entropy = 0.358</text>\n<text text-anchor=\"start\" x=\"1149.5\" y=\"-736.8\" font-family=\"Helvetica,sans-Serif\" font-size=\"14.00\" fill=\"#000000\">samples = 103</text>\n<text text-anchor=\"start\" x=\"1144\" y=\"-721.8\" font-family=\"Helvetica,sans-Serif\" font-size=\"14.00\" fill=\"#000000\">value = [1, 5, 97]</text>\n<text text-anchor=\"start\" x=\"1141.5\" y=\"-706.8\" font-family=\"Helvetica,sans-Serif\" font-size=\"14.00\" fill=\"#000000\">class = Chinstrap</text>\n</g>\n<!-- 0&#45;&gt;26 -->\n<g id=\"edge26\" class=\"edge\">\n<title>0&#45;&gt;26</title>\n<path fill=\"none\" stroke=\"#000000\" d=\"M1088.9085,-817.8796C1102.3839,-808.2774 1116.8203,-797.9903 1130.625,-788.1534\"/>\n<polygon fill=\"#000000\" stroke=\"#000000\" points=\"1133.0117,-790.7505 1139.1245,-782.0969 1128.9494,-785.0497 1133.0117,-790.7505\"/>\n<text text-anchor=\"middle\" x=\"1134.9866\" y=\"-803.0521\" font-family=\"Helvetica,sans-Serif\" font-size=\"14.00\" fill=\"#000000\">False</text>\n</g>\n<!-- 2 -->\n<g id=\"node3\" class=\"node\">\n<title>2</title>\n<path fill=\"#e68540\" stroke=\"#000000\" d=\"M675.5,-663C675.5,-663 537.5,-663 537.5,-663 531.5,-663 525.5,-657 525.5,-651 525.5,-651 525.5,-592 525.5,-592 525.5,-586 531.5,-580 537.5,-580 537.5,-580 675.5,-580 675.5,-580 681.5,-580 687.5,-586 687.5,-592 687.5,-592 687.5,-651 687.5,-651 687.5,-657 681.5,-663 675.5,-663\"/>\n<text text-anchor=\"start\" x=\"533.5\" y=\"-647.8\" font-family=\"Helvetica,sans-Serif\" font-size=\"14.00\" fill=\"#000000\">bill_length_mm ≤ &#45;0.29</text>\n<text text-anchor=\"start\" x=\"555.5\" y=\"-632.8\" font-family=\"Helvetica,sans-Serif\" font-size=\"14.00\" fill=\"#000000\">entropy = 0.211</text>\n<text text-anchor=\"start\" x=\"558.5\" y=\"-617.8\" font-family=\"Helvetica,sans-Serif\" font-size=\"14.00\" fill=\"#000000\">samples = 120</text>\n<text text-anchor=\"start\" x=\"549\" y=\"-602.8\" font-family=\"Helvetica,sans-Serif\" font-size=\"14.00\" fill=\"#000000\">value = [116, 4, 0]</text>\n<text text-anchor=\"start\" x=\"561.5\" y=\"-587.8\" font-family=\"Helvetica,sans-Serif\" font-size=\"14.00\" fill=\"#000000\">class = Adelie</text>\n</g>\n<!-- 1&#45;&gt;2 -->\n<g id=\"edge2\" class=\"edge\">\n<title>1&#45;&gt;2</title>\n<path fill=\"none\" stroke=\"#000000\" d=\"M778.2797,-701.04C752.139,-688.936 723.2927,-675.5791 696.8234,-663.3229\"/>\n<polygon fill=\"#000000\" stroke=\"#000000\" points=\"698.1134,-660.0633 687.5683,-659.0375 695.1721,-666.4154 698.1134,-660.0633\"/>\n</g>\n<!-- 15 -->\n<g id=\"node16\" class=\"node\">\n<title>15</title>\n<path fill=\"#56e994\" stroke=\"#000000\" d=\"M934,-663C934,-663 793,-663 793,-663 787,-663 781,-657 781,-651 781,-651 781,-592 781,-592 781,-586 787,-580 793,-580 793,-580 934,-580 934,-580 940,-580 946,-586 946,-592 946,-592 946,-651 946,-651 946,-657 940,-663 934,-663\"/>\n<text text-anchor=\"start\" x=\"789\" y=\"-647.8\" font-family=\"Helvetica,sans-Serif\" font-size=\"14.00\" fill=\"#000000\">body_mass_g ≤ &#45;0.252</text>\n<text text-anchor=\"start\" x=\"812.5\" y=\"-632.8\" font-family=\"Helvetica,sans-Serif\" font-size=\"14.00\" fill=\"#000000\">entropy = 0.686</text>\n<text text-anchor=\"start\" x=\"819.5\" y=\"-617.8\" font-family=\"Helvetica,sans-Serif\" font-size=\"14.00\" fill=\"#000000\">samples = 52</text>\n<text text-anchor=\"start\" x=\"810\" y=\"-602.8\" font-family=\"Helvetica,sans-Serif\" font-size=\"14.00\" fill=\"#000000\">value = [5, 45, 2]</text>\n<text text-anchor=\"start\" x=\"814.5\" y=\"-587.8\" font-family=\"Helvetica,sans-Serif\" font-size=\"14.00\" fill=\"#000000\">class = Gentoo</text>\n</g>\n<!-- 1&#45;&gt;15 -->\n<g id=\"edge15\" class=\"edge\">\n<title>1&#45;&gt;15</title>\n<path fill=\"none\" stroke=\"#000000\" d=\"M863.5,-698.8796C863.5,-690.6838 863.5,-681.9891 863.5,-673.5013\"/>\n<polygon fill=\"#000000\" stroke=\"#000000\" points=\"867.0001,-673.298 863.5,-663.2981 860.0001,-673.2981 867.0001,-673.298\"/>\n</g>\n<!-- 3 -->\n<g id=\"node4\" class=\"node\">\n<title>3</title>\n<path fill=\"#e5823b\" stroke=\"#000000\" d=\"M480,-544C480,-544 325,-544 325,-544 319,-544 313,-538 313,-532 313,-532 313,-473 313,-473 313,-467 319,-461 325,-461 325,-461 480,-461 480,-461 486,-461 492,-467 492,-473 492,-473 492,-532 492,-532 492,-538 486,-544 480,-544\"/>\n<text text-anchor=\"start\" x=\"321\" y=\"-528.8\" font-family=\"Helvetica,sans-Serif\" font-size=\"14.00\" fill=\"#000000\">sex_label_encoded ≤ 0.5</text>\n<text text-anchor=\"start\" x=\"351.5\" y=\"-513.8\" font-family=\"Helvetica,sans-Serif\" font-size=\"14.00\" fill=\"#000000\">entropy = 0.074</text>\n<text text-anchor=\"start\" x=\"354.5\" y=\"-498.8\" font-family=\"Helvetica,sans-Serif\" font-size=\"14.00\" fill=\"#000000\">samples = 111</text>\n<text text-anchor=\"start\" x=\"345\" y=\"-483.8\" font-family=\"Helvetica,sans-Serif\" font-size=\"14.00\" fill=\"#000000\">value = [110, 1, 0]</text>\n<text text-anchor=\"start\" x=\"357.5\" y=\"-468.8\" font-family=\"Helvetica,sans-Serif\" font-size=\"14.00\" fill=\"#000000\">class = Adelie</text>\n</g>\n<!-- 2&#45;&gt;3 -->\n<g id=\"edge3\" class=\"edge\">\n<title>2&#45;&gt;3</title>\n<path fill=\"none\" stroke=\"#000000\" d=\"M535.1507,-579.8796C518.2239,-570.0056 500.0556,-559.4075 482.7617,-549.3193\"/>\n<polygon fill=\"#000000\" stroke=\"#000000\" points=\"484.2104,-546.1125 473.809,-544.0969 480.6833,-552.1589 484.2104,-546.1125\"/>\n</g>\n<!-- 12 -->\n<g id=\"node13\" class=\"node\">\n<title>12</title>\n<path fill=\"#f2c09c\" stroke=\"#000000\" d=\"M690.5,-544C690.5,-544 522.5,-544 522.5,-544 516.5,-544 510.5,-538 510.5,-532 510.5,-532 510.5,-473 510.5,-473 510.5,-467 516.5,-461 522.5,-461 522.5,-461 690.5,-461 690.5,-461 696.5,-461 702.5,-467 702.5,-473 702.5,-473 702.5,-532 702.5,-532 702.5,-538 696.5,-544 690.5,-544\"/>\n<text text-anchor=\"start\" x=\"518.5\" y=\"-528.8\" font-family=\"Helvetica,sans-Serif\" font-size=\"14.00\" fill=\"#000000\">flipper_length_mm ≤ &#45;0.706</text>\n<text text-anchor=\"start\" x=\"555.5\" y=\"-513.8\" font-family=\"Helvetica,sans-Serif\" font-size=\"14.00\" fill=\"#000000\">entropy = 0.918</text>\n<text text-anchor=\"start\" x=\"567\" y=\"-498.8\" font-family=\"Helvetica,sans-Serif\" font-size=\"14.00\" fill=\"#000000\">samples = 9</text>\n<text text-anchor=\"start\" x=\"557\" y=\"-483.8\" font-family=\"Helvetica,sans-Serif\" font-size=\"14.00\" fill=\"#000000\">value = [6, 3, 0]</text>\n<text text-anchor=\"start\" x=\"561.5\" y=\"-468.8\" font-family=\"Helvetica,sans-Serif\" font-size=\"14.00\" fill=\"#000000\">class = Adelie</text>\n</g>\n<!-- 2&#45;&gt;12 -->\n<g id=\"edge12\" class=\"edge\">\n<title>2&#45;&gt;12</title>\n<path fill=\"none\" stroke=\"#000000\" d=\"M606.5,-579.8796C606.5,-571.6838 606.5,-562.9891 606.5,-554.5013\"/>\n<polygon fill=\"#000000\" stroke=\"#000000\" points=\"610.0001,-554.298 606.5,-544.2981 603.0001,-554.2981 610.0001,-554.298\"/>\n</g>\n<!-- 4 -->\n<g id=\"node5\" class=\"node\">\n<title>4</title>\n<path fill=\"#e5833c\" stroke=\"#000000\" d=\"M314.5,-425C314.5,-425 146.5,-425 146.5,-425 140.5,-425 134.5,-419 134.5,-413 134.5,-413 134.5,-354 134.5,-354 134.5,-348 140.5,-342 146.5,-342 146.5,-342 314.5,-342 314.5,-342 320.5,-342 326.5,-348 326.5,-354 326.5,-354 326.5,-413 326.5,-413 326.5,-419 320.5,-425 314.5,-425\"/>\n<text text-anchor=\"start\" x=\"142.5\" y=\"-409.8\" font-family=\"Helvetica,sans-Serif\" font-size=\"14.00\" fill=\"#000000\">flipper_length_mm ≤ &#45;0.956</text>\n<text text-anchor=\"start\" x=\"179.5\" y=\"-394.8\" font-family=\"Helvetica,sans-Serif\" font-size=\"14.00\" fill=\"#000000\">entropy = 0.116</text>\n<text text-anchor=\"start\" x=\"186.5\" y=\"-379.8\" font-family=\"Helvetica,sans-Serif\" font-size=\"14.00\" fill=\"#000000\">samples = 64</text>\n<text text-anchor=\"start\" x=\"177\" y=\"-364.8\" font-family=\"Helvetica,sans-Serif\" font-size=\"14.00\" fill=\"#000000\">value = [63, 1, 0]</text>\n<text text-anchor=\"start\" x=\"185.5\" y=\"-349.8\" font-family=\"Helvetica,sans-Serif\" font-size=\"14.00\" fill=\"#000000\">class = Adelie</text>\n</g>\n<!-- 3&#45;&gt;4 -->\n<g id=\"edge4\" class=\"edge\">\n<title>3&#45;&gt;4</title>\n<path fill=\"none\" stroke=\"#000000\" d=\"M342.3427,-460.8796C328.333,-451.1868 313.3146,-440.7961 298.975,-430.8752\"/>\n<polygon fill=\"#000000\" stroke=\"#000000\" points=\"300.8383,-427.9083 290.6233,-425.0969 296.8556,-433.6649 300.8383,-427.9083\"/>\n</g>\n<!-- 11 -->\n<g id=\"node12\" class=\"node\">\n<title>11</title>\n<path fill=\"#e58139\" stroke=\"#000000\" d=\"M456,-417.5C456,-417.5 357,-417.5 357,-417.5 351,-417.5 345,-411.5 345,-405.5 345,-405.5 345,-361.5 345,-361.5 345,-355.5 351,-349.5 357,-349.5 357,-349.5 456,-349.5 456,-349.5 462,-349.5 468,-355.5 468,-361.5 468,-361.5 468,-405.5 468,-405.5 468,-411.5 462,-417.5 456,-417.5\"/>\n<text text-anchor=\"start\" x=\"364\" y=\"-402.3\" font-family=\"Helvetica,sans-Serif\" font-size=\"14.00\" fill=\"#000000\">entropy = 0.0</text>\n<text text-anchor=\"start\" x=\"362.5\" y=\"-387.3\" font-family=\"Helvetica,sans-Serif\" font-size=\"14.00\" fill=\"#000000\">samples = 47</text>\n<text text-anchor=\"start\" x=\"353\" y=\"-372.3\" font-family=\"Helvetica,sans-Serif\" font-size=\"14.00\" fill=\"#000000\">value = [47, 0, 0]</text>\n<text text-anchor=\"start\" x=\"361.5\" y=\"-357.3\" font-family=\"Helvetica,sans-Serif\" font-size=\"14.00\" fill=\"#000000\">class = Adelie</text>\n</g>\n<!-- 3&#45;&gt;11 -->\n<g id=\"edge11\" class=\"edge\">\n<title>3&#45;&gt;11</title>\n<path fill=\"none\" stroke=\"#000000\" d=\"M403.899,-460.8796C404.2575,-450.2134 404.6445,-438.7021 405.0075,-427.9015\"/>\n<polygon fill=\"#000000\" stroke=\"#000000\" points=\"408.5085,-427.9269 405.3466,-417.8149 401.5125,-427.6917 408.5085,-427.9269\"/>\n</g>\n<!-- 5 -->\n<g id=\"node6\" class=\"node\">\n<title>5</title>\n<path fill=\"#e6853f\" stroke=\"#000000\" d=\"M226.5,-306C226.5,-306 58.5,-306 58.5,-306 52.5,-306 46.5,-300 46.5,-294 46.5,-294 46.5,-235 46.5,-235 46.5,-229 52.5,-223 58.5,-223 58.5,-223 226.5,-223 226.5,-223 232.5,-223 238.5,-229 238.5,-235 238.5,-235 238.5,-294 238.5,-294 238.5,-300 232.5,-306 226.5,-306\"/>\n<text text-anchor=\"start\" x=\"54.5\" y=\"-290.8\" font-family=\"Helvetica,sans-Serif\" font-size=\"14.00\" fill=\"#000000\">flipper_length_mm ≤ &#45;1.028</text>\n<text text-anchor=\"start\" x=\"91.5\" y=\"-275.8\" font-family=\"Helvetica,sans-Serif\" font-size=\"14.00\" fill=\"#000000\">entropy = 0.191</text>\n<text text-anchor=\"start\" x=\"98.5\" y=\"-260.8\" font-family=\"Helvetica,sans-Serif\" font-size=\"14.00\" fill=\"#000000\">samples = 34</text>\n<text text-anchor=\"start\" x=\"89\" y=\"-245.8\" font-family=\"Helvetica,sans-Serif\" font-size=\"14.00\" fill=\"#000000\">value = [33, 1, 0]</text>\n<text text-anchor=\"start\" x=\"97.5\" y=\"-230.8\" font-family=\"Helvetica,sans-Serif\" font-size=\"14.00\" fill=\"#000000\">class = Adelie</text>\n</g>\n<!-- 4&#45;&gt;5 -->\n<g id=\"edge5\" class=\"edge\">\n<title>4&#45;&gt;5</title>\n<path fill=\"none\" stroke=\"#000000\" d=\"M199.7219,-341.8796C193.1949,-333.0534 186.2401,-323.6485 179.5092,-314.5466\"/>\n<polygon fill=\"#000000\" stroke=\"#000000\" points=\"182.1695,-312.2574 173.4095,-306.2981 176.5412,-316.4195 182.1695,-312.2574\"/>\n</g>\n<!-- 10 -->\n<g id=\"node11\" class=\"node\">\n<title>10</title>\n<path fill=\"#e58139\" stroke=\"#000000\" d=\"M368,-298.5C368,-298.5 269,-298.5 269,-298.5 263,-298.5 257,-292.5 257,-286.5 257,-286.5 257,-242.5 257,-242.5 257,-236.5 263,-230.5 269,-230.5 269,-230.5 368,-230.5 368,-230.5 374,-230.5 380,-236.5 380,-242.5 380,-242.5 380,-286.5 380,-286.5 380,-292.5 374,-298.5 368,-298.5\"/>\n<text text-anchor=\"start\" x=\"276\" y=\"-283.3\" font-family=\"Helvetica,sans-Serif\" font-size=\"14.00\" fill=\"#000000\">entropy = 0.0</text>\n<text text-anchor=\"start\" x=\"274.5\" y=\"-268.3\" font-family=\"Helvetica,sans-Serif\" font-size=\"14.00\" fill=\"#000000\">samples = 30</text>\n<text text-anchor=\"start\" x=\"265\" y=\"-253.3\" font-family=\"Helvetica,sans-Serif\" font-size=\"14.00\" fill=\"#000000\">value = [30, 0, 0]</text>\n<text text-anchor=\"start\" x=\"273.5\" y=\"-238.3\" font-family=\"Helvetica,sans-Serif\" font-size=\"14.00\" fill=\"#000000\">class = Adelie</text>\n</g>\n<!-- 4&#45;&gt;10 -->\n<g id=\"edge10\" class=\"edge\">\n<title>4&#45;&gt;10</title>\n<path fill=\"none\" stroke=\"#000000\" d=\"M261.2781,-341.8796C269.6536,-330.5536 278.7338,-318.2748 287.1411,-306.9058\"/>\n<polygon fill=\"#000000\" stroke=\"#000000\" points=\"289.9925,-308.9364 293.1242,-298.8149 284.3643,-304.7743 289.9925,-308.9364\"/>\n</g>\n<!-- 6 -->\n<g id=\"node7\" class=\"node\">\n<title>6</title>\n<path fill=\"#e58139\" stroke=\"#000000\" d=\"M111,-179.5C111,-179.5 12,-179.5 12,-179.5 6,-179.5 0,-173.5 0,-167.5 0,-167.5 0,-123.5 0,-123.5 0,-117.5 6,-111.5 12,-111.5 12,-111.5 111,-111.5 111,-111.5 117,-111.5 123,-117.5 123,-123.5 123,-123.5 123,-167.5 123,-167.5 123,-173.5 117,-179.5 111,-179.5\"/>\n<text text-anchor=\"start\" x=\"19\" y=\"-164.3\" font-family=\"Helvetica,sans-Serif\" font-size=\"14.00\" fill=\"#000000\">entropy = 0.0</text>\n<text text-anchor=\"start\" x=\"17.5\" y=\"-149.3\" font-family=\"Helvetica,sans-Serif\" font-size=\"14.00\" fill=\"#000000\">samples = 24</text>\n<text text-anchor=\"start\" x=\"8\" y=\"-134.3\" font-family=\"Helvetica,sans-Serif\" font-size=\"14.00\" fill=\"#000000\">value = [24, 0, 0]</text>\n<text text-anchor=\"start\" x=\"16.5\" y=\"-119.3\" font-family=\"Helvetica,sans-Serif\" font-size=\"14.00\" fill=\"#000000\">class = Adelie</text>\n</g>\n<!-- 5&#45;&gt;6 -->\n<g id=\"edge6\" class=\"edge\">\n<title>5&#45;&gt;6</title>\n<path fill=\"none\" stroke=\"#000000\" d=\"M114.1701,-222.8796C106.5357,-211.6636 98.2652,-199.5131 90.5901,-188.2372\"/>\n<polygon fill=\"#000000\" stroke=\"#000000\" points=\"93.3775,-186.1122 84.8572,-179.8149 87.5908,-190.0511 93.3775,-186.1122\"/>\n</g>\n<!-- 7 -->\n<g id=\"node8\" class=\"node\">\n<title>7</title>\n<path fill=\"#e88f4f\" stroke=\"#000000\" d=\"M296,-187C296,-187 153,-187 153,-187 147,-187 141,-181 141,-175 141,-175 141,-116 141,-116 141,-110 147,-104 153,-104 153,-104 296,-104 296,-104 302,-104 308,-110 308,-116 308,-116 308,-175 308,-175 308,-181 302,-187 296,-187\"/>\n<text text-anchor=\"start\" x=\"149\" y=\"-171.8\" font-family=\"Helvetica,sans-Serif\" font-size=\"14.00\" fill=\"#000000\">bill_depth_mm ≤ &#45;0.154</text>\n<text text-anchor=\"start\" x=\"173.5\" y=\"-156.8\" font-family=\"Helvetica,sans-Serif\" font-size=\"14.00\" fill=\"#000000\">entropy = 0.469</text>\n<text text-anchor=\"start\" x=\"180.5\" y=\"-141.8\" font-family=\"Helvetica,sans-Serif\" font-size=\"14.00\" fill=\"#000000\">samples = 10</text>\n<text text-anchor=\"start\" x=\"175\" y=\"-126.8\" font-family=\"Helvetica,sans-Serif\" font-size=\"14.00\" fill=\"#000000\">value = [9, 1, 0]</text>\n<text text-anchor=\"start\" x=\"179.5\" y=\"-111.8\" font-family=\"Helvetica,sans-Serif\" font-size=\"14.00\" fill=\"#000000\">class = Adelie</text>\n</g>\n<!-- 5&#45;&gt;7 -->\n<g id=\"edge7\" class=\"edge\">\n<title>5&#45;&gt;7</title>\n<path fill=\"none\" stroke=\"#000000\" d=\"M171.1796,-222.8796C177.2615,-214.0534 183.7422,-204.6485 190.0141,-195.5466\"/>\n<polygon fill=\"#000000\" stroke=\"#000000\" points=\"192.9059,-197.5184 195.698,-187.2981 187.1418,-193.5465 192.9059,-197.5184\"/>\n</g>\n<!-- 8 -->\n<g id=\"node9\" class=\"node\">\n<title>8</title>\n<path fill=\"#ffffff\" stroke=\"#000000\" d=\"M204,-68C204,-68 113,-68 113,-68 107,-68 101,-62 101,-56 101,-56 101,-12 101,-12 101,-6 107,0 113,0 113,0 204,0 204,0 210,0 216,-6 216,-12 216,-12 216,-56 216,-56 216,-62 210,-68 204,-68\"/>\n<text text-anchor=\"start\" x=\"116\" y=\"-52.8\" font-family=\"Helvetica,sans-Serif\" font-size=\"14.00\" fill=\"#000000\">entropy = 1.0</text>\n<text text-anchor=\"start\" x=\"119\" y=\"-37.8\" font-family=\"Helvetica,sans-Serif\" font-size=\"14.00\" fill=\"#000000\">samples = 2</text>\n<text text-anchor=\"start\" x=\"109\" y=\"-22.8\" font-family=\"Helvetica,sans-Serif\" font-size=\"14.00\" fill=\"#000000\">value = [1, 1, 0]</text>\n<text text-anchor=\"start\" x=\"113.5\" y=\"-7.8\" font-family=\"Helvetica,sans-Serif\" font-size=\"14.00\" fill=\"#000000\">class = Adelie</text>\n</g>\n<!-- 7&#45;&gt;8 -->\n<g id=\"edge8\" class=\"edge\">\n<title>7&#45;&gt;8</title>\n<path fill=\"none\" stroke=\"#000000\" d=\"M199.924,-103.9815C194.7014,-95.1585 189.1771,-85.8258 183.9237,-76.9506\"/>\n<polygon fill=\"#000000\" stroke=\"#000000\" points=\"186.8874,-75.0863 178.7816,-68.2637 180.8636,-78.652 186.8874,-75.0863\"/>\n</g>\n<!-- 9 -->\n<g id=\"node10\" class=\"node\">\n<title>9</title>\n<path fill=\"#e58139\" stroke=\"#000000\" d=\"M337,-68C337,-68 246,-68 246,-68 240,-68 234,-62 234,-56 234,-56 234,-12 234,-12 234,-6 240,0 246,0 246,0 337,0 337,0 343,0 349,-6 349,-12 349,-12 349,-56 349,-56 349,-62 343,-68 337,-68\"/>\n<text text-anchor=\"start\" x=\"249\" y=\"-52.8\" font-family=\"Helvetica,sans-Serif\" font-size=\"14.00\" fill=\"#000000\">entropy = 0.0</text>\n<text text-anchor=\"start\" x=\"252\" y=\"-37.8\" font-family=\"Helvetica,sans-Serif\" font-size=\"14.00\" fill=\"#000000\">samples = 8</text>\n<text text-anchor=\"start\" x=\"242\" y=\"-22.8\" font-family=\"Helvetica,sans-Serif\" font-size=\"14.00\" fill=\"#000000\">value = [8, 0, 0]</text>\n<text text-anchor=\"start\" x=\"246.5\" y=\"-7.8\" font-family=\"Helvetica,sans-Serif\" font-size=\"14.00\" fill=\"#000000\">class = Adelie</text>\n</g>\n<!-- 7&#45;&gt;9 -->\n<g id=\"edge9\" class=\"edge\">\n<title>7&#45;&gt;9</title>\n<path fill=\"none\" stroke=\"#000000\" d=\"M249.4483,-103.9815C254.7501,-95.1585 260.3581,-85.8258 265.6911,-76.9506\"/>\n<polygon fill=\"#000000\" stroke=\"#000000\" points=\"268.7605,-78.638 270.9111,-68.2637 262.7604,-75.0325 268.7605,-78.638\"/>\n</g>\n<!-- 13 -->\n<g id=\"node14\" class=\"node\">\n<title>13</title>\n<path fill=\"#39e581\" stroke=\"#000000\" d=\"M619,-417.5C619,-417.5 528,-417.5 528,-417.5 522,-417.5 516,-411.5 516,-405.5 516,-405.5 516,-361.5 516,-361.5 516,-355.5 522,-349.5 528,-349.5 528,-349.5 619,-349.5 619,-349.5 625,-349.5 631,-355.5 631,-361.5 631,-361.5 631,-405.5 631,-405.5 631,-411.5 625,-417.5 619,-417.5\"/>\n<text text-anchor=\"start\" x=\"531\" y=\"-402.3\" font-family=\"Helvetica,sans-Serif\" font-size=\"14.00\" fill=\"#000000\">entropy = 0.0</text>\n<text text-anchor=\"start\" x=\"534\" y=\"-387.3\" font-family=\"Helvetica,sans-Serif\" font-size=\"14.00\" fill=\"#000000\">samples = 3</text>\n<text text-anchor=\"start\" x=\"524\" y=\"-372.3\" font-family=\"Helvetica,sans-Serif\" font-size=\"14.00\" fill=\"#000000\">value = [0, 3, 0]</text>\n<text text-anchor=\"start\" x=\"524.5\" y=\"-357.3\" font-family=\"Helvetica,sans-Serif\" font-size=\"14.00\" fill=\"#000000\">class = Gentoo</text>\n</g>\n<!-- 12&#45;&gt;13 -->\n<g id=\"edge13\" class=\"edge\">\n<title>12&#45;&gt;13</title>\n<path fill=\"none\" stroke=\"#000000\" d=\"M594.9582,-460.8796C591.9699,-450.1034 588.7423,-438.4647 585.7205,-427.5677\"/>\n<polygon fill=\"#000000\" stroke=\"#000000\" points=\"589.061,-426.516 583.0159,-417.8149 582.3155,-428.3866 589.061,-426.516\"/>\n</g>\n<!-- 14 -->\n<g id=\"node15\" class=\"node\">\n<title>14</title>\n<path fill=\"#e58139\" stroke=\"#000000\" d=\"M752,-417.5C752,-417.5 661,-417.5 661,-417.5 655,-417.5 649,-411.5 649,-405.5 649,-405.5 649,-361.5 649,-361.5 649,-355.5 655,-349.5 661,-349.5 661,-349.5 752,-349.5 752,-349.5 758,-349.5 764,-355.5 764,-361.5 764,-361.5 764,-405.5 764,-405.5 764,-411.5 758,-417.5 752,-417.5\"/>\n<text text-anchor=\"start\" x=\"664\" y=\"-402.3\" font-family=\"Helvetica,sans-Serif\" font-size=\"14.00\" fill=\"#000000\">entropy = 0.0</text>\n<text text-anchor=\"start\" x=\"667\" y=\"-387.3\" font-family=\"Helvetica,sans-Serif\" font-size=\"14.00\" fill=\"#000000\">samples = 6</text>\n<text text-anchor=\"start\" x=\"657\" y=\"-372.3\" font-family=\"Helvetica,sans-Serif\" font-size=\"14.00\" fill=\"#000000\">value = [6, 0, 0]</text>\n<text text-anchor=\"start\" x=\"661.5\" y=\"-357.3\" font-family=\"Helvetica,sans-Serif\" font-size=\"14.00\" fill=\"#000000\">class = Adelie</text>\n</g>\n<!-- 12&#45;&gt;14 -->\n<g id=\"edge14\" class=\"edge\">\n<title>12&#45;&gt;14</title>\n<path fill=\"none\" stroke=\"#000000\" d=\"M641.4751,-460.8796C651.0852,-449.4436 661.5115,-437.0363 671.1429,-425.575\"/>\n<polygon fill=\"#000000\" stroke=\"#000000\" points=\"673.91,-427.7225 677.6639,-417.8149 668.5509,-423.219 673.91,-427.7225\"/>\n</g>\n<!-- 16 -->\n<g id=\"node17\" class=\"node\">\n<title>16</title>\n<path fill=\"#39e581\" stroke=\"#000000\" d=\"M832,-536.5C832,-536.5 733,-536.5 733,-536.5 727,-536.5 721,-530.5 721,-524.5 721,-524.5 721,-480.5 721,-480.5 721,-474.5 727,-468.5 733,-468.5 733,-468.5 832,-468.5 832,-468.5 838,-468.5 844,-474.5 844,-480.5 844,-480.5 844,-524.5 844,-524.5 844,-530.5 838,-536.5 832,-536.5\"/>\n<text text-anchor=\"start\" x=\"740\" y=\"-521.3\" font-family=\"Helvetica,sans-Serif\" font-size=\"14.00\" fill=\"#000000\">entropy = 0.0</text>\n<text text-anchor=\"start\" x=\"738.5\" y=\"-506.3\" font-family=\"Helvetica,sans-Serif\" font-size=\"14.00\" fill=\"#000000\">samples = 34</text>\n<text text-anchor=\"start\" x=\"729\" y=\"-491.3\" font-family=\"Helvetica,sans-Serif\" font-size=\"14.00\" fill=\"#000000\">value = [0, 34, 0]</text>\n<text text-anchor=\"start\" x=\"733.5\" y=\"-476.3\" font-family=\"Helvetica,sans-Serif\" font-size=\"14.00\" fill=\"#000000\">class = Gentoo</text>\n</g>\n<!-- 15&#45;&gt;16 -->\n<g id=\"edge16\" class=\"edge\">\n<title>15&#45;&gt;16</title>\n<path fill=\"none\" stroke=\"#000000\" d=\"M835.1701,-579.8796C827.5357,-568.6636 819.2652,-556.5131 811.5901,-545.2372\"/>\n<polygon fill=\"#000000\" stroke=\"#000000\" points=\"814.3775,-543.1122 805.8572,-536.8149 808.5908,-547.0511 814.3775,-543.1122\"/>\n</g>\n<!-- 17 -->\n<g id=\"node18\" class=\"node\">\n<title>17</title>\n<path fill=\"#a4f3c5\" stroke=\"#000000\" d=\"M1029,-544C1029,-544 874,-544 874,-544 868,-544 862,-538 862,-532 862,-532 862,-473 862,-473 862,-467 868,-461 874,-461 874,-461 1029,-461 1029,-461 1035,-461 1041,-467 1041,-473 1041,-473 1041,-532 1041,-532 1041,-538 1035,-544 1029,-544\"/>\n<text text-anchor=\"start\" x=\"870\" y=\"-528.8\" font-family=\"Helvetica,sans-Serif\" font-size=\"14.00\" fill=\"#000000\">sex_label_encoded ≤ 0.5</text>\n<text text-anchor=\"start\" x=\"909\" y=\"-513.8\" font-family=\"Helvetica,sans-Serif\" font-size=\"14.00\" fill=\"#000000\">entropy = 1.3</text>\n<text text-anchor=\"start\" x=\"907.5\" y=\"-498.8\" font-family=\"Helvetica,sans-Serif\" font-size=\"14.00\" fill=\"#000000\">samples = 18</text>\n<text text-anchor=\"start\" x=\"898\" y=\"-483.8\" font-family=\"Helvetica,sans-Serif\" font-size=\"14.00\" fill=\"#000000\">value = [5, 11, 2]</text>\n<text text-anchor=\"start\" x=\"902.5\" y=\"-468.8\" font-family=\"Helvetica,sans-Serif\" font-size=\"14.00\" fill=\"#000000\">class = Gentoo</text>\n</g>\n<!-- 15&#45;&gt;17 -->\n<g id=\"edge17\" class=\"edge\">\n<title>15&#45;&gt;17</title>\n<path fill=\"none\" stroke=\"#000000\" d=\"M894.2781,-579.8796C900.8051,-571.0534 907.7599,-561.6485 914.4908,-552.5466\"/>\n<polygon fill=\"#000000\" stroke=\"#000000\" points=\"917.4588,-554.4195 920.5905,-544.2981 911.8305,-550.2574 917.4588,-554.4195\"/>\n</g>\n<!-- 18 -->\n<g id=\"node19\" class=\"node\">\n<title>18</title>\n<path fill=\"#d5bdf6\" stroke=\"#000000\" d=\"M977.5,-425C977.5,-425 809.5,-425 809.5,-425 803.5,-425 797.5,-419 797.5,-413 797.5,-413 797.5,-354 797.5,-354 797.5,-348 803.5,-342 809.5,-342 809.5,-342 977.5,-342 977.5,-342 983.5,-342 989.5,-348 989.5,-354 989.5,-354 989.5,-413 989.5,-413 989.5,-419 983.5,-425 977.5,-425\"/>\n<text text-anchor=\"start\" x=\"805.5\" y=\"-409.8\" font-family=\"Helvetica,sans-Serif\" font-size=\"14.00\" fill=\"#000000\">flipper_length_mm ≤ &#45;0.349</text>\n<text text-anchor=\"start\" x=\"851\" y=\"-394.8\" font-family=\"Helvetica,sans-Serif\" font-size=\"14.00\" fill=\"#000000\">entropy = 1.5</text>\n<text text-anchor=\"start\" x=\"854\" y=\"-379.8\" font-family=\"Helvetica,sans-Serif\" font-size=\"14.00\" fill=\"#000000\">samples = 4</text>\n<text text-anchor=\"start\" x=\"844\" y=\"-364.8\" font-family=\"Helvetica,sans-Serif\" font-size=\"14.00\" fill=\"#000000\">value = [1, 1, 2]</text>\n<text text-anchor=\"start\" x=\"837.5\" y=\"-349.8\" font-family=\"Helvetica,sans-Serif\" font-size=\"14.00\" fill=\"#000000\">class = Chinstrap</text>\n</g>\n<!-- 17&#45;&gt;18 -->\n<g id=\"edge18\" class=\"edge\">\n<title>17&#45;&gt;18</title>\n<path fill=\"none\" stroke=\"#000000\" d=\"M931.2144,-460.8796C927.0443,-452.3236 922.6091,-443.2238 918.3003,-434.3833\"/>\n<polygon fill=\"#000000\" stroke=\"#000000\" points=\"921.3997,-432.7538 913.8722,-425.2981 915.1073,-435.8207 921.3997,-432.7538\"/>\n</g>\n<!-- 21 -->\n<g id=\"node22\" class=\"node\">\n<title>21</title>\n<path fill=\"#88efb3\" stroke=\"#000000\" d=\"M1187.5,-425C1187.5,-425 1019.5,-425 1019.5,-425 1013.5,-425 1007.5,-419 1007.5,-413 1007.5,-413 1007.5,-354 1007.5,-354 1007.5,-348 1013.5,-342 1019.5,-342 1019.5,-342 1187.5,-342 1187.5,-342 1193.5,-342 1199.5,-348 1199.5,-354 1199.5,-354 1199.5,-413 1199.5,-413 1199.5,-419 1193.5,-425 1187.5,-425\"/>\n<text text-anchor=\"start\" x=\"1015.5\" y=\"-409.8\" font-family=\"Helvetica,sans-Serif\" font-size=\"14.00\" fill=\"#000000\">flipper_length_mm ≤ &#45;0.135</text>\n<text text-anchor=\"start\" x=\"1052.5\" y=\"-394.8\" font-family=\"Helvetica,sans-Serif\" font-size=\"14.00\" fill=\"#000000\">entropy = 0.863</text>\n<text text-anchor=\"start\" x=\"1059.5\" y=\"-379.8\" font-family=\"Helvetica,sans-Serif\" font-size=\"14.00\" fill=\"#000000\">samples = 14</text>\n<text text-anchor=\"start\" x=\"1050\" y=\"-364.8\" font-family=\"Helvetica,sans-Serif\" font-size=\"14.00\" fill=\"#000000\">value = [4, 10, 0]</text>\n<text text-anchor=\"start\" x=\"1054.5\" y=\"-349.8\" font-family=\"Helvetica,sans-Serif\" font-size=\"14.00\" fill=\"#000000\">class = Gentoo</text>\n</g>\n<!-- 17&#45;&gt;21 -->\n<g id=\"edge21\" class=\"edge\">\n<title>17&#45;&gt;21</title>\n<path fill=\"none\" stroke=\"#000000\" d=\"M1004.6622,-460.8796C1016.8115,-451.368 1029.8192,-441.1843 1042.276,-431.432\"/>\n<polygon fill=\"#000000\" stroke=\"#000000\" points=\"1044.6514,-434.0173 1050.3678,-425.0969 1040.3362,-428.5055 1044.6514,-434.0173\"/>\n</g>\n<!-- 19 -->\n<g id=\"node20\" class=\"node\">\n<title>19</title>\n<path fill=\"#39e581\" stroke=\"#000000\" d=\"M810,-298.5C810,-298.5 719,-298.5 719,-298.5 713,-298.5 707,-292.5 707,-286.5 707,-286.5 707,-242.5 707,-242.5 707,-236.5 713,-230.5 719,-230.5 719,-230.5 810,-230.5 810,-230.5 816,-230.5 822,-236.5 822,-242.5 822,-242.5 822,-286.5 822,-286.5 822,-292.5 816,-298.5 810,-298.5\"/>\n<text text-anchor=\"start\" x=\"722\" y=\"-283.3\" font-family=\"Helvetica,sans-Serif\" font-size=\"14.00\" fill=\"#000000\">entropy = 0.0</text>\n<text text-anchor=\"start\" x=\"725\" y=\"-268.3\" font-family=\"Helvetica,sans-Serif\" font-size=\"14.00\" fill=\"#000000\">samples = 1</text>\n<text text-anchor=\"start\" x=\"715\" y=\"-253.3\" font-family=\"Helvetica,sans-Serif\" font-size=\"14.00\" fill=\"#000000\">value = [0, 1, 0]</text>\n<text text-anchor=\"start\" x=\"715.5\" y=\"-238.3\" font-family=\"Helvetica,sans-Serif\" font-size=\"14.00\" fill=\"#000000\">class = Gentoo</text>\n</g>\n<!-- 18&#45;&gt;19 -->\n<g id=\"edge19\" class=\"edge\">\n<title>18&#45;&gt;19</title>\n<path fill=\"none\" stroke=\"#000000\" d=\"M848.3821,-341.8796C835.7467,-330.2237 822.0174,-317.5587 809.395,-305.9148\"/>\n<polygon fill=\"#000000\" stroke=\"#000000\" points=\"811.422,-303.0228 801.6985,-298.8149 806.6756,-308.168 811.422,-303.0228\"/>\n</g>\n<!-- 20 -->\n<g id=\"node21\" class=\"node\">\n<title>20</title>\n<path fill=\"#c09cf2\" stroke=\"#000000\" d=\"M956.5,-298.5C956.5,-298.5 852.5,-298.5 852.5,-298.5 846.5,-298.5 840.5,-292.5 840.5,-286.5 840.5,-286.5 840.5,-242.5 840.5,-242.5 840.5,-236.5 846.5,-230.5 852.5,-230.5 852.5,-230.5 956.5,-230.5 956.5,-230.5 962.5,-230.5 968.5,-236.5 968.5,-242.5 968.5,-242.5 968.5,-286.5 968.5,-286.5 968.5,-292.5 962.5,-298.5 956.5,-298.5\"/>\n<text text-anchor=\"start\" x=\"853.5\" y=\"-283.3\" font-family=\"Helvetica,sans-Serif\" font-size=\"14.00\" fill=\"#000000\">entropy = 0.918</text>\n<text text-anchor=\"start\" x=\"865\" y=\"-268.3\" font-family=\"Helvetica,sans-Serif\" font-size=\"14.00\" fill=\"#000000\">samples = 3</text>\n<text text-anchor=\"start\" x=\"855\" y=\"-253.3\" font-family=\"Helvetica,sans-Serif\" font-size=\"14.00\" fill=\"#000000\">value = [1, 0, 2]</text>\n<text text-anchor=\"start\" x=\"848.5\" y=\"-238.3\" font-family=\"Helvetica,sans-Serif\" font-size=\"14.00\" fill=\"#000000\">class = Chinstrap</text>\n</g>\n<!-- 18&#45;&gt;20 -->\n<g id=\"edge20\" class=\"edge\">\n<title>18&#45;&gt;20</title>\n<path fill=\"none\" stroke=\"#000000\" d=\"M897.3473,-341.8796C898.3332,-331.2134 899.3973,-319.7021 900.3957,-308.9015\"/>\n<polygon fill=\"#000000\" stroke=\"#000000\" points=\"903.8926,-309.0947 901.328,-298.8149 896.9224,-308.4503 903.8926,-309.0947\"/>\n</g>\n<!-- 22 -->\n<g id=\"node23\" class=\"node\">\n<title>22</title>\n<path fill=\"#f2c09c\" stroke=\"#000000\" d=\"M1161,-306C1161,-306 1022,-306 1022,-306 1016,-306 1010,-300 1010,-294 1010,-294 1010,-235 1010,-235 1010,-229 1016,-223 1022,-223 1022,-223 1161,-223 1161,-223 1167,-223 1173,-229 1173,-235 1173,-235 1173,-294 1173,-294 1173,-300 1167,-306 1161,-306\"/>\n<text text-anchor=\"start\" x=\"1018\" y=\"-290.8\" font-family=\"Helvetica,sans-Serif\" font-size=\"14.00\" fill=\"#000000\">bill_depth_mm ≤ 1.118</text>\n<text text-anchor=\"start\" x=\"1040.5\" y=\"-275.8\" font-family=\"Helvetica,sans-Serif\" font-size=\"14.00\" fill=\"#000000\">entropy = 0.918</text>\n<text text-anchor=\"start\" x=\"1052\" y=\"-260.8\" font-family=\"Helvetica,sans-Serif\" font-size=\"14.00\" fill=\"#000000\">samples = 6</text>\n<text text-anchor=\"start\" x=\"1042\" y=\"-245.8\" font-family=\"Helvetica,sans-Serif\" font-size=\"14.00\" fill=\"#000000\">value = [4, 2, 0]</text>\n<text text-anchor=\"start\" x=\"1046.5\" y=\"-230.8\" font-family=\"Helvetica,sans-Serif\" font-size=\"14.00\" fill=\"#000000\">class = Adelie</text>\n</g>\n<!-- 21&#45;&gt;22 -->\n<g id=\"edge22\" class=\"edge\">\n<title>21&#45;&gt;22</title>\n<path fill=\"none\" stroke=\"#000000\" d=\"M1099.303,-341.8796C1098.4765,-333.6838 1097.5997,-324.9891 1096.7438,-316.5013\"/>\n<polygon fill=\"#000000\" stroke=\"#000000\" points=\"1100.2007,-315.8964 1095.7149,-306.2981 1093.236,-316.5988 1100.2007,-315.8964\"/>\n</g>\n<!-- 25 -->\n<g id=\"node26\" class=\"node\">\n<title>25</title>\n<path fill=\"#39e581\" stroke=\"#000000\" d=\"M1294,-298.5C1294,-298.5 1203,-298.5 1203,-298.5 1197,-298.5 1191,-292.5 1191,-286.5 1191,-286.5 1191,-242.5 1191,-242.5 1191,-236.5 1197,-230.5 1203,-230.5 1203,-230.5 1294,-230.5 1294,-230.5 1300,-230.5 1306,-236.5 1306,-242.5 1306,-242.5 1306,-286.5 1306,-286.5 1306,-292.5 1300,-298.5 1294,-298.5\"/>\n<text text-anchor=\"start\" x=\"1206\" y=\"-283.3\" font-family=\"Helvetica,sans-Serif\" font-size=\"14.00\" fill=\"#000000\">entropy = 0.0</text>\n<text text-anchor=\"start\" x=\"1209\" y=\"-268.3\" font-family=\"Helvetica,sans-Serif\" font-size=\"14.00\" fill=\"#000000\">samples = 8</text>\n<text text-anchor=\"start\" x=\"1199\" y=\"-253.3\" font-family=\"Helvetica,sans-Serif\" font-size=\"14.00\" fill=\"#000000\">value = [0, 8, 0]</text>\n<text text-anchor=\"start\" x=\"1199.5\" y=\"-238.3\" font-family=\"Helvetica,sans-Serif\" font-size=\"14.00\" fill=\"#000000\">class = Gentoo</text>\n</g>\n<!-- 21&#45;&gt;25 -->\n<g id=\"edge25\" class=\"edge\">\n<title>21&#45;&gt;25</title>\n<path fill=\"none\" stroke=\"#000000\" d=\"M1154.214,-341.8796C1168.6844,-330.0038 1184.4314,-317.0804 1198.8383,-305.2568\"/>\n<polygon fill=\"#000000\" stroke=\"#000000\" points=\"1201.178,-307.8645 1206.6877,-298.8149 1196.7372,-302.4534 1201.178,-307.8645\"/>\n</g>\n<!-- 23 -->\n<g id=\"node24\" class=\"node\">\n<title>23</title>\n<path fill=\"#9cf2c0\" stroke=\"#000000\" d=\"M1070.5,-179.5C1070.5,-179.5 976.5,-179.5 976.5,-179.5 970.5,-179.5 964.5,-173.5 964.5,-167.5 964.5,-167.5 964.5,-123.5 964.5,-123.5 964.5,-117.5 970.5,-111.5 976.5,-111.5 976.5,-111.5 1070.5,-111.5 1070.5,-111.5 1076.5,-111.5 1082.5,-117.5 1082.5,-123.5 1082.5,-123.5 1082.5,-167.5 1082.5,-167.5 1082.5,-173.5 1076.5,-179.5 1070.5,-179.5\"/>\n<text text-anchor=\"start\" x=\"972.5\" y=\"-164.3\" font-family=\"Helvetica,sans-Serif\" font-size=\"14.00\" fill=\"#000000\">entropy = 0.918</text>\n<text text-anchor=\"start\" x=\"984\" y=\"-149.3\" font-family=\"Helvetica,sans-Serif\" font-size=\"14.00\" fill=\"#000000\">samples = 3</text>\n<text text-anchor=\"start\" x=\"974\" y=\"-134.3\" font-family=\"Helvetica,sans-Serif\" font-size=\"14.00\" fill=\"#000000\">value = [1, 2, 0]</text>\n<text text-anchor=\"start\" x=\"974.5\" y=\"-119.3\" font-family=\"Helvetica,sans-Serif\" font-size=\"14.00\" fill=\"#000000\">class = Gentoo</text>\n</g>\n<!-- 22&#45;&gt;23 -->\n<g id=\"edge23\" class=\"edge\">\n<title>22&#45;&gt;23</title>\n<path fill=\"none\" stroke=\"#000000\" d=\"M1067.7169,-222.8796C1061.3706,-211.7735 1054.5007,-199.7513 1048.1109,-188.5691\"/>\n<polygon fill=\"#000000\" stroke=\"#000000\" points=\"1051.1088,-186.7609 1043.1085,-179.8149 1045.0311,-190.2339 1051.1088,-186.7609\"/>\n</g>\n<!-- 24 -->\n<g id=\"node25\" class=\"node\">\n<title>24</title>\n<path fill=\"#e58139\" stroke=\"#000000\" d=\"M1204,-179.5C1204,-179.5 1113,-179.5 1113,-179.5 1107,-179.5 1101,-173.5 1101,-167.5 1101,-167.5 1101,-123.5 1101,-123.5 1101,-117.5 1107,-111.5 1113,-111.5 1113,-111.5 1204,-111.5 1204,-111.5 1210,-111.5 1216,-117.5 1216,-123.5 1216,-123.5 1216,-167.5 1216,-167.5 1216,-173.5 1210,-179.5 1204,-179.5\"/>\n<text text-anchor=\"start\" x=\"1116\" y=\"-164.3\" font-family=\"Helvetica,sans-Serif\" font-size=\"14.00\" fill=\"#000000\">entropy = 0.0</text>\n<text text-anchor=\"start\" x=\"1119\" y=\"-149.3\" font-family=\"Helvetica,sans-Serif\" font-size=\"14.00\" fill=\"#000000\">samples = 3</text>\n<text text-anchor=\"start\" x=\"1109\" y=\"-134.3\" font-family=\"Helvetica,sans-Serif\" font-size=\"14.00\" fill=\"#000000\">value = [3, 0, 0]</text>\n<text text-anchor=\"start\" x=\"1113.5\" y=\"-119.3\" font-family=\"Helvetica,sans-Serif\" font-size=\"14.00\" fill=\"#000000\">class = Adelie</text>\n</g>\n<!-- 22&#45;&gt;24 -->\n<g id=\"edge24\" class=\"edge\">\n<title>22&#45;&gt;24</title>\n<path fill=\"none\" stroke=\"#000000\" d=\"M1114.9333,-222.8796C1121.1863,-211.7735 1127.9552,-199.7513 1134.251,-188.5691\"/>\n<polygon fill=\"#000000\" stroke=\"#000000\" points=\"1137.3235,-190.2459 1139.1798,-179.8149 1131.2239,-186.8116 1137.3235,-190.2459\"/>\n</g>\n<!-- 27 -->\n<g id=\"node28\" class=\"node\">\n<title>27</title>\n<path fill=\"#d0b5f5\" stroke=\"#000000\" d=\"M1269,-663C1269,-663 1126,-663 1126,-663 1120,-663 1114,-657 1114,-651 1114,-651 1114,-592 1114,-592 1114,-586 1120,-580 1126,-580 1126,-580 1269,-580 1269,-580 1275,-580 1281,-586 1281,-592 1281,-592 1281,-651 1281,-651 1281,-657 1275,-663 1269,-663\"/>\n<text text-anchor=\"start\" x=\"1122\" y=\"-647.8\" font-family=\"Helvetica,sans-Serif\" font-size=\"14.00\" fill=\"#000000\">bill_depth_mm ≤ &#45;0.204</text>\n<text text-anchor=\"start\" x=\"1146.5\" y=\"-632.8\" font-family=\"Helvetica,sans-Serif\" font-size=\"14.00\" fill=\"#000000\">entropy = 1.281</text>\n<text text-anchor=\"start\" x=\"1153.5\" y=\"-617.8\" font-family=\"Helvetica,sans-Serif\" font-size=\"14.00\" fill=\"#000000\">samples = 12</text>\n<text text-anchor=\"start\" x=\"1148\" y=\"-602.8\" font-family=\"Helvetica,sans-Serif\" font-size=\"14.00\" fill=\"#000000\">value = [1, 4, 7]</text>\n<text text-anchor=\"start\" x=\"1141.5\" y=\"-587.8\" font-family=\"Helvetica,sans-Serif\" font-size=\"14.00\" fill=\"#000000\">class = Chinstrap</text>\n</g>\n<!-- 26&#45;&gt;27 -->\n<g id=\"edge27\" class=\"edge\">\n<title>26&#45;&gt;27</title>\n<path fill=\"none\" stroke=\"#000000\" d=\"M1197.5,-698.8796C1197.5,-690.6838 1197.5,-681.9891 1197.5,-673.5013\"/>\n<polygon fill=\"#000000\" stroke=\"#000000\" points=\"1201.0001,-673.298 1197.5,-663.2981 1194.0001,-673.2981 1201.0001,-673.298\"/>\n</g>\n<!-- 32 -->\n<g id=\"node33\" class=\"node\">\n<title>32</title>\n<path fill=\"#823be5\" stroke=\"#000000\" d=\"M1518.5,-663C1518.5,-663 1384.5,-663 1384.5,-663 1378.5,-663 1372.5,-657 1372.5,-651 1372.5,-651 1372.5,-592 1372.5,-592 1372.5,-586 1378.5,-580 1384.5,-580 1384.5,-580 1518.5,-580 1518.5,-580 1524.5,-580 1530.5,-586 1530.5,-592 1530.5,-592 1530.5,-651 1530.5,-651 1530.5,-657 1524.5,-663 1518.5,-663\"/>\n<text text-anchor=\"start\" x=\"1380.5\" y=\"-647.8\" font-family=\"Helvetica,sans-Serif\" font-size=\"14.00\" fill=\"#000000\">bill_length_mm ≤ 1.44</text>\n<text text-anchor=\"start\" x=\"1400.5\" y=\"-632.8\" font-family=\"Helvetica,sans-Serif\" font-size=\"14.00\" fill=\"#000000\">entropy = 0.087</text>\n<text text-anchor=\"start\" x=\"1407.5\" y=\"-617.8\" font-family=\"Helvetica,sans-Serif\" font-size=\"14.00\" fill=\"#000000\">samples = 91</text>\n<text text-anchor=\"start\" x=\"1398\" y=\"-602.8\" font-family=\"Helvetica,sans-Serif\" font-size=\"14.00\" fill=\"#000000\">value = [0, 1, 90]</text>\n<text text-anchor=\"start\" x=\"1395.5\" y=\"-587.8\" font-family=\"Helvetica,sans-Serif\" font-size=\"14.00\" fill=\"#000000\">class = Chinstrap</text>\n</g>\n<!-- 26&#45;&gt;32 -->\n<g id=\"edge32\" class=\"edge\">\n<title>26&#45;&gt;32</title>\n<path fill=\"none\" stroke=\"#000000\" d=\"M1278.2162,-702.6841C1305.2318,-690.0272 1335.4844,-675.8538 1363.058,-662.9354\"/>\n<polygon fill=\"#000000\" stroke=\"#000000\" points=\"1364.7272,-666.0185 1372.2978,-658.6065 1361.7574,-659.6797 1364.7272,-666.0185\"/>\n</g>\n<!-- 28 -->\n<g id=\"node29\" class=\"node\">\n<title>28</title>\n<path fill=\"#8139e5\" stroke=\"#000000\" d=\"M1175.5,-536.5C1175.5,-536.5 1071.5,-536.5 1071.5,-536.5 1065.5,-536.5 1059.5,-530.5 1059.5,-524.5 1059.5,-524.5 1059.5,-480.5 1059.5,-480.5 1059.5,-474.5 1065.5,-468.5 1071.5,-468.5 1071.5,-468.5 1175.5,-468.5 1175.5,-468.5 1181.5,-468.5 1187.5,-474.5 1187.5,-480.5 1187.5,-480.5 1187.5,-524.5 1187.5,-524.5 1187.5,-530.5 1181.5,-536.5 1175.5,-536.5\"/>\n<text text-anchor=\"start\" x=\"1081\" y=\"-521.3\" font-family=\"Helvetica,sans-Serif\" font-size=\"14.00\" fill=\"#000000\">entropy = 0.0</text>\n<text text-anchor=\"start\" x=\"1084\" y=\"-506.3\" font-family=\"Helvetica,sans-Serif\" font-size=\"14.00\" fill=\"#000000\">samples = 7</text>\n<text text-anchor=\"start\" x=\"1074\" y=\"-491.3\" font-family=\"Helvetica,sans-Serif\" font-size=\"14.00\" fill=\"#000000\">value = [0, 0, 7]</text>\n<text text-anchor=\"start\" x=\"1067.5\" y=\"-476.3\" font-family=\"Helvetica,sans-Serif\" font-size=\"14.00\" fill=\"#000000\">class = Chinstrap</text>\n</g>\n<!-- 27&#45;&gt;28 -->\n<g id=\"edge28\" class=\"edge\">\n<title>27&#45;&gt;28</title>\n<path fill=\"none\" stroke=\"#000000\" d=\"M1171.6184,-579.8796C1164.7121,-568.7735 1157.2361,-556.7513 1150.2825,-545.5691\"/>\n<polygon fill=\"#000000\" stroke=\"#000000\" points=\"1153.0917,-543.4587 1144.8387,-536.8149 1147.1473,-547.1552 1153.0917,-543.4587\"/>\n</g>\n<!-- 29 -->\n<g id=\"node30\" class=\"node\">\n<title>29</title>\n<path fill=\"#6aeca0\" stroke=\"#000000\" d=\"M1357,-544C1357,-544 1218,-544 1218,-544 1212,-544 1206,-538 1206,-532 1206,-532 1206,-473 1206,-473 1206,-467 1212,-461 1218,-461 1218,-461 1357,-461 1357,-461 1363,-461 1369,-467 1369,-473 1369,-473 1369,-532 1369,-532 1369,-538 1363,-544 1357,-544\"/>\n<text text-anchor=\"start\" x=\"1214\" y=\"-528.8\" font-family=\"Helvetica,sans-Serif\" font-size=\"14.00\" fill=\"#000000\">bill_depth_mm ≤ 0.914</text>\n<text text-anchor=\"start\" x=\"1236.5\" y=\"-513.8\" font-family=\"Helvetica,sans-Serif\" font-size=\"14.00\" fill=\"#000000\">entropy = 0.722</text>\n<text text-anchor=\"start\" x=\"1248\" y=\"-498.8\" font-family=\"Helvetica,sans-Serif\" font-size=\"14.00\" fill=\"#000000\">samples = 5</text>\n<text text-anchor=\"start\" x=\"1238\" y=\"-483.8\" font-family=\"Helvetica,sans-Serif\" font-size=\"14.00\" fill=\"#000000\">value = [1, 4, 0]</text>\n<text text-anchor=\"start\" x=\"1238.5\" y=\"-468.8\" font-family=\"Helvetica,sans-Serif\" font-size=\"14.00\" fill=\"#000000\">class = Gentoo</text>\n</g>\n<!-- 27&#45;&gt;29 -->\n<g id=\"edge29\" class=\"edge\">\n<title>27&#45;&gt;29</title>\n<path fill=\"none\" stroke=\"#000000\" d=\"M1228.9776,-579.8796C1235.6529,-571.0534 1242.7658,-561.6485 1249.6496,-552.5466\"/>\n<polygon fill=\"#000000\" stroke=\"#000000\" points=\"1252.6474,-554.3852 1255.888,-544.2981 1247.0643,-550.1626 1252.6474,-554.3852\"/>\n</g>\n<!-- 30 -->\n<g id=\"node31\" class=\"node\">\n<title>30</title>\n<path fill=\"#e58139\" stroke=\"#000000\" d=\"M1329,-417.5C1329,-417.5 1238,-417.5 1238,-417.5 1232,-417.5 1226,-411.5 1226,-405.5 1226,-405.5 1226,-361.5 1226,-361.5 1226,-355.5 1232,-349.5 1238,-349.5 1238,-349.5 1329,-349.5 1329,-349.5 1335,-349.5 1341,-355.5 1341,-361.5 1341,-361.5 1341,-405.5 1341,-405.5 1341,-411.5 1335,-417.5 1329,-417.5\"/>\n<text text-anchor=\"start\" x=\"1241\" y=\"-402.3\" font-family=\"Helvetica,sans-Serif\" font-size=\"14.00\" fill=\"#000000\">entropy = 0.0</text>\n<text text-anchor=\"start\" x=\"1244\" y=\"-387.3\" font-family=\"Helvetica,sans-Serif\" font-size=\"14.00\" fill=\"#000000\">samples = 1</text>\n<text text-anchor=\"start\" x=\"1234\" y=\"-372.3\" font-family=\"Helvetica,sans-Serif\" font-size=\"14.00\" fill=\"#000000\">value = [1, 0, 0]</text>\n<text text-anchor=\"start\" x=\"1238.5\" y=\"-357.3\" font-family=\"Helvetica,sans-Serif\" font-size=\"14.00\" fill=\"#000000\">class = Adelie</text>\n</g>\n<!-- 29&#45;&gt;30 -->\n<g id=\"edge30\" class=\"edge\">\n<title>29&#45;&gt;30</title>\n<path fill=\"none\" stroke=\"#000000\" d=\"M1286.101,-460.8796C1285.7425,-450.2134 1285.3555,-438.7021 1284.9925,-427.9015\"/>\n<polygon fill=\"#000000\" stroke=\"#000000\" points=\"1288.4875,-427.6917 1284.6534,-417.8149 1281.4915,-427.9269 1288.4875,-427.6917\"/>\n</g>\n<!-- 31 -->\n<g id=\"node32\" class=\"node\">\n<title>31</title>\n<path fill=\"#39e581\" stroke=\"#000000\" d=\"M1462,-417.5C1462,-417.5 1371,-417.5 1371,-417.5 1365,-417.5 1359,-411.5 1359,-405.5 1359,-405.5 1359,-361.5 1359,-361.5 1359,-355.5 1365,-349.5 1371,-349.5 1371,-349.5 1462,-349.5 1462,-349.5 1468,-349.5 1474,-355.5 1474,-361.5 1474,-361.5 1474,-405.5 1474,-405.5 1474,-411.5 1468,-417.5 1462,-417.5\"/>\n<text text-anchor=\"start\" x=\"1374\" y=\"-402.3\" font-family=\"Helvetica,sans-Serif\" font-size=\"14.00\" fill=\"#000000\">entropy = 0.0</text>\n<text text-anchor=\"start\" x=\"1377\" y=\"-387.3\" font-family=\"Helvetica,sans-Serif\" font-size=\"14.00\" fill=\"#000000\">samples = 4</text>\n<text text-anchor=\"start\" x=\"1367\" y=\"-372.3\" font-family=\"Helvetica,sans-Serif\" font-size=\"14.00\" fill=\"#000000\">value = [0, 4, 0]</text>\n<text text-anchor=\"start\" x=\"1367.5\" y=\"-357.3\" font-family=\"Helvetica,sans-Serif\" font-size=\"14.00\" fill=\"#000000\">class = Gentoo</text>\n</g>\n<!-- 29&#45;&gt;31 -->\n<g id=\"edge31\" class=\"edge\">\n<title>29&#45;&gt;31</title>\n<path fill=\"none\" stroke=\"#000000\" d=\"M1332.6179,-460.8796C1345.2533,-449.2237 1358.9826,-436.5587 1371.605,-424.9148\"/>\n<polygon fill=\"#000000\" stroke=\"#000000\" points=\"1374.3244,-427.168 1379.3015,-417.8149 1369.578,-422.0228 1374.3244,-427.168\"/>\n</g>\n<!-- 33 -->\n<g id=\"node34\" class=\"node\">\n<title>33</title>\n<path fill=\"#8139e5\" stroke=\"#000000\" d=\"M1503.5,-536.5C1503.5,-536.5 1399.5,-536.5 1399.5,-536.5 1393.5,-536.5 1387.5,-530.5 1387.5,-524.5 1387.5,-524.5 1387.5,-480.5 1387.5,-480.5 1387.5,-474.5 1393.5,-468.5 1399.5,-468.5 1399.5,-468.5 1503.5,-468.5 1503.5,-468.5 1509.5,-468.5 1515.5,-474.5 1515.5,-480.5 1515.5,-480.5 1515.5,-524.5 1515.5,-524.5 1515.5,-530.5 1509.5,-536.5 1503.5,-536.5\"/>\n<text text-anchor=\"start\" x=\"1409\" y=\"-521.3\" font-family=\"Helvetica,sans-Serif\" font-size=\"14.00\" fill=\"#000000\">entropy = 0.0</text>\n<text text-anchor=\"start\" x=\"1407.5\" y=\"-506.3\" font-family=\"Helvetica,sans-Serif\" font-size=\"14.00\" fill=\"#000000\">samples = 83</text>\n<text text-anchor=\"start\" x=\"1398\" y=\"-491.3\" font-family=\"Helvetica,sans-Serif\" font-size=\"14.00\" fill=\"#000000\">value = [0, 0, 83]</text>\n<text text-anchor=\"start\" x=\"1395.5\" y=\"-476.3\" font-family=\"Helvetica,sans-Serif\" font-size=\"14.00\" fill=\"#000000\">class = Chinstrap</text>\n</g>\n<!-- 32&#45;&gt;33 -->\n<g id=\"edge33\" class=\"edge\">\n<title>32&#45;&gt;33</title>\n<path fill=\"none\" stroke=\"#000000\" d=\"M1451.5,-579.8796C1451.5,-569.2134 1451.5,-557.7021 1451.5,-546.9015\"/>\n<polygon fill=\"#000000\" stroke=\"#000000\" points=\"1455.0001,-546.8149 1451.5,-536.8149 1448.0001,-546.815 1455.0001,-546.8149\"/>\n</g>\n<!-- 34 -->\n<g id=\"node35\" class=\"node\">\n<title>34</title>\n<path fill=\"#9355e9\" stroke=\"#000000\" d=\"M1683,-544C1683,-544 1546,-544 1546,-544 1540,-544 1534,-538 1534,-532 1534,-532 1534,-473 1534,-473 1534,-467 1540,-461 1546,-461 1546,-461 1683,-461 1683,-461 1689,-461 1695,-467 1695,-473 1695,-473 1695,-532 1695,-532 1695,-538 1689,-544 1683,-544\"/>\n<text text-anchor=\"start\" x=\"1542\" y=\"-528.8\" font-family=\"Helvetica,sans-Serif\" font-size=\"14.00\" fill=\"#000000\">body_mass_g ≤ 1.126</text>\n<text text-anchor=\"start\" x=\"1563.5\" y=\"-513.8\" font-family=\"Helvetica,sans-Serif\" font-size=\"14.00\" fill=\"#000000\">entropy = 0.544</text>\n<text text-anchor=\"start\" x=\"1575\" y=\"-498.8\" font-family=\"Helvetica,sans-Serif\" font-size=\"14.00\" fill=\"#000000\">samples = 8</text>\n<text text-anchor=\"start\" x=\"1565\" y=\"-483.8\" font-family=\"Helvetica,sans-Serif\" font-size=\"14.00\" fill=\"#000000\">value = [0, 1, 7]</text>\n<text text-anchor=\"start\" x=\"1558.5\" y=\"-468.8\" font-family=\"Helvetica,sans-Serif\" font-size=\"14.00\" fill=\"#000000\">class = Chinstrap</text>\n</g>\n<!-- 32&#45;&gt;34 -->\n<g id=\"edge34\" class=\"edge\">\n<title>32&#45;&gt;34</title>\n<path fill=\"none\" stroke=\"#000000\" d=\"M1508.5095,-579.8796C1521.6621,-570.2774 1535.7528,-559.9903 1549.2268,-550.1534\"/>\n<polygon fill=\"#000000\" stroke=\"#000000\" points=\"1551.5098,-552.8202 1557.5227,-544.0969 1547.3823,-547.1666 1551.5098,-552.8202\"/>\n</g>\n<!-- 35 -->\n<g id=\"node36\" class=\"node\">\n<title>35</title>\n<path fill=\"#39e581\" stroke=\"#000000\" d=\"M1628,-417.5C1628,-417.5 1537,-417.5 1537,-417.5 1531,-417.5 1525,-411.5 1525,-405.5 1525,-405.5 1525,-361.5 1525,-361.5 1525,-355.5 1531,-349.5 1537,-349.5 1537,-349.5 1628,-349.5 1628,-349.5 1634,-349.5 1640,-355.5 1640,-361.5 1640,-361.5 1640,-405.5 1640,-405.5 1640,-411.5 1634,-417.5 1628,-417.5\"/>\n<text text-anchor=\"start\" x=\"1540\" y=\"-402.3\" font-family=\"Helvetica,sans-Serif\" font-size=\"14.00\" fill=\"#000000\">entropy = 0.0</text>\n<text text-anchor=\"start\" x=\"1543\" y=\"-387.3\" font-family=\"Helvetica,sans-Serif\" font-size=\"14.00\" fill=\"#000000\">samples = 1</text>\n<text text-anchor=\"start\" x=\"1533\" y=\"-372.3\" font-family=\"Helvetica,sans-Serif\" font-size=\"14.00\" fill=\"#000000\">value = [0, 1, 0]</text>\n<text text-anchor=\"start\" x=\"1533.5\" y=\"-357.3\" font-family=\"Helvetica,sans-Serif\" font-size=\"14.00\" fill=\"#000000\">class = Gentoo</text>\n</g>\n<!-- 34&#45;&gt;35 -->\n<g id=\"edge35\" class=\"edge\">\n<title>34&#45;&gt;35</title>\n<path fill=\"none\" stroke=\"#000000\" d=\"M1603.308,-460.8796C1600.4102,-450.1034 1597.2804,-438.4647 1594.3501,-427.5677\"/>\n<polygon fill=\"#000000\" stroke=\"#000000\" points=\"1597.7044,-426.563 1591.7275,-417.8149 1590.9445,-428.3808 1597.7044,-426.563\"/>\n</g>\n<!-- 36 -->\n<g id=\"node37\" class=\"node\">\n<title>36</title>\n<path fill=\"#8139e5\" stroke=\"#000000\" d=\"M1774.5,-417.5C1774.5,-417.5 1670.5,-417.5 1670.5,-417.5 1664.5,-417.5 1658.5,-411.5 1658.5,-405.5 1658.5,-405.5 1658.5,-361.5 1658.5,-361.5 1658.5,-355.5 1664.5,-349.5 1670.5,-349.5 1670.5,-349.5 1774.5,-349.5 1774.5,-349.5 1780.5,-349.5 1786.5,-355.5 1786.5,-361.5 1786.5,-361.5 1786.5,-405.5 1786.5,-405.5 1786.5,-411.5 1780.5,-417.5 1774.5,-417.5\"/>\n<text text-anchor=\"start\" x=\"1680\" y=\"-402.3\" font-family=\"Helvetica,sans-Serif\" font-size=\"14.00\" fill=\"#000000\">entropy = 0.0</text>\n<text text-anchor=\"start\" x=\"1683\" y=\"-387.3\" font-family=\"Helvetica,sans-Serif\" font-size=\"14.00\" fill=\"#000000\">samples = 7</text>\n<text text-anchor=\"start\" x=\"1673\" y=\"-372.3\" font-family=\"Helvetica,sans-Serif\" font-size=\"14.00\" fill=\"#000000\">value = [0, 0, 7]</text>\n<text text-anchor=\"start\" x=\"1666.5\" y=\"-357.3\" font-family=\"Helvetica,sans-Serif\" font-size=\"14.00\" fill=\"#000000\">class = Chinstrap</text>\n</g>\n<!-- 34&#45;&gt;36 -->\n<g id=\"edge36\" class=\"edge\">\n<title>34&#45;&gt;36</title>\n<path fill=\"none\" stroke=\"#000000\" d=\"M1652.2732,-460.8796C1662.7518,-449.3337 1674.1291,-436.7976 1684.6141,-425.2446\"/>\n<polygon fill=\"#000000\" stroke=\"#000000\" points=\"1687.2282,-427.5722 1691.357,-417.8149 1682.0447,-422.8678 1687.2282,-427.5722\"/>\n</g>\n</g>\n</svg>\n"
          },
          "metadata": {},
          "execution_count": 39
        }
      ]
    },
    {
      "cell_type": "code",
      "source": [
        "dot_data = export_graphviz(model_decision_tree, out_file=None, \n",
        "                      feature_names=x_feature.columns,  \n",
        "                      class_names=['Adelie', 'Gentoo', 'Chinstrap'],\n",
        "                      filled=True, rounded=True,  \n",
        "                      special_characters=True)  \n",
        "graph = graphviz.Source(dot_data) \n",
        "graph.render(\"Penguin_species_decision_tree_estimater\")"
      ],
      "metadata": {
        "colab": {
          "base_uri": "https://localhost:8080/",
          "height": 36
        },
        "id": "oQuEC4bj6oDD",
        "outputId": "b175c88c-ecf0-478c-c179-91a211d70d78"
      },
      "execution_count": null,
      "outputs": [
        {
          "output_type": "execute_result",
          "data": {
            "text/plain": [
              "'Penguin_species_decision_tree_estimater.pdf'"
            ],
            "application/vnd.google.colaboratory.intrinsic+json": {
              "type": "string"
            }
          },
          "metadata": {},
          "execution_count": 40
        }
      ]
    }
  ]
}